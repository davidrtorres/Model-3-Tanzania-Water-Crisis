{
 "cells": [
  {
   "cell_type": "code",
   "execution_count": 1,
   "metadata": {},
   "outputs": [],
   "source": [
    "\"\"\"\n",
    "how ot change data types in variables\n",
    "    df['col_name'] = df['col_name'].astype(int)\n",
    "\n",
    "\"\"\"\n",
    "import pandas as pd\n",
    "import numpy as np\n",
    "import matplotlib.pyplot as plt\n",
    "%matplotlib inline\n",
    "\n",
    "import seaborn as sns\n",
    "\n",
    "import missingno as msno \n",
    "\n",
    "dashes = dashes='---'*20"
   ]
  },
  {
   "cell_type": "code",
   "execution_count": 2,
   "metadata": {},
   "outputs": [],
   "source": [
    "data = pd.read_csv('data/titanic.csv')"
   ]
  },
  {
   "cell_type": "code",
   "execution_count": 3,
   "metadata": {},
   "outputs": [
    {
     "data": {
      "text/html": [
       "<div>\n",
       "<style scoped>\n",
       "    .dataframe tbody tr th:only-of-type {\n",
       "        vertical-align: middle;\n",
       "    }\n",
       "\n",
       "    .dataframe tbody tr th {\n",
       "        vertical-align: top;\n",
       "    }\n",
       "\n",
       "    .dataframe thead th {\n",
       "        text-align: right;\n",
       "    }\n",
       "</style>\n",
       "<table border=\"1\" class=\"dataframe\">\n",
       "  <thead>\n",
       "    <tr style=\"text-align: right;\">\n",
       "      <th></th>\n",
       "      <th>PassengerId</th>\n",
       "      <th>Survived</th>\n",
       "      <th>Pclass</th>\n",
       "      <th>Name</th>\n",
       "      <th>Sex</th>\n",
       "      <th>Age</th>\n",
       "      <th>SibSp</th>\n",
       "      <th>Parch</th>\n",
       "      <th>Ticket</th>\n",
       "      <th>Fare</th>\n",
       "      <th>Cabin</th>\n",
       "      <th>Embarked</th>\n",
       "    </tr>\n",
       "  </thead>\n",
       "  <tbody>\n",
       "    <tr>\n",
       "      <td>0</td>\n",
       "      <td>1</td>\n",
       "      <td>0</td>\n",
       "      <td>3</td>\n",
       "      <td>Braund, Mr. Owen Harris</td>\n",
       "      <td>male</td>\n",
       "      <td>22.0</td>\n",
       "      <td>1</td>\n",
       "      <td>0</td>\n",
       "      <td>A/5 21171</td>\n",
       "      <td>7.2500</td>\n",
       "      <td>NaN</td>\n",
       "      <td>S</td>\n",
       "    </tr>\n",
       "    <tr>\n",
       "      <td>1</td>\n",
       "      <td>2</td>\n",
       "      <td>1</td>\n",
       "      <td>1</td>\n",
       "      <td>Cumings, Mrs. John Bradley (Florence Briggs Th...</td>\n",
       "      <td>female</td>\n",
       "      <td>38.0</td>\n",
       "      <td>1</td>\n",
       "      <td>0</td>\n",
       "      <td>PC 17599</td>\n",
       "      <td>71.2833</td>\n",
       "      <td>C85</td>\n",
       "      <td>C</td>\n",
       "    </tr>\n",
       "    <tr>\n",
       "      <td>2</td>\n",
       "      <td>3</td>\n",
       "      <td>1</td>\n",
       "      <td>3</td>\n",
       "      <td>Heikkinen, Miss. Laina</td>\n",
       "      <td>female</td>\n",
       "      <td>26.0</td>\n",
       "      <td>0</td>\n",
       "      <td>0</td>\n",
       "      <td>STON/O2. 3101282</td>\n",
       "      <td>7.9250</td>\n",
       "      <td>NaN</td>\n",
       "      <td>S</td>\n",
       "    </tr>\n",
       "    <tr>\n",
       "      <td>3</td>\n",
       "      <td>4</td>\n",
       "      <td>1</td>\n",
       "      <td>1</td>\n",
       "      <td>Futrelle, Mrs. Jacques Heath (Lily May Peel)</td>\n",
       "      <td>female</td>\n",
       "      <td>35.0</td>\n",
       "      <td>1</td>\n",
       "      <td>0</td>\n",
       "      <td>113803</td>\n",
       "      <td>53.1000</td>\n",
       "      <td>C123</td>\n",
       "      <td>S</td>\n",
       "    </tr>\n",
       "    <tr>\n",
       "      <td>4</td>\n",
       "      <td>5</td>\n",
       "      <td>0</td>\n",
       "      <td>3</td>\n",
       "      <td>Allen, Mr. William Henry</td>\n",
       "      <td>male</td>\n",
       "      <td>35.0</td>\n",
       "      <td>0</td>\n",
       "      <td>0</td>\n",
       "      <td>373450</td>\n",
       "      <td>8.0500</td>\n",
       "      <td>NaN</td>\n",
       "      <td>S</td>\n",
       "    </tr>\n",
       "  </tbody>\n",
       "</table>\n",
       "</div>"
      ],
      "text/plain": [
       "   PassengerId  Survived  Pclass  \\\n",
       "0            1         0       3   \n",
       "1            2         1       1   \n",
       "2            3         1       3   \n",
       "3            4         1       1   \n",
       "4            5         0       3   \n",
       "\n",
       "                                                Name     Sex   Age  SibSp  \\\n",
       "0                            Braund, Mr. Owen Harris    male  22.0      1   \n",
       "1  Cumings, Mrs. John Bradley (Florence Briggs Th...  female  38.0      1   \n",
       "2                             Heikkinen, Miss. Laina  female  26.0      0   \n",
       "3       Futrelle, Mrs. Jacques Heath (Lily May Peel)  female  35.0      1   \n",
       "4                           Allen, Mr. William Henry    male  35.0      0   \n",
       "\n",
       "   Parch            Ticket     Fare Cabin Embarked  \n",
       "0      0         A/5 21171   7.2500   NaN        S  \n",
       "1      0          PC 17599  71.2833   C85        C  \n",
       "2      0  STON/O2. 3101282   7.9250   NaN        S  \n",
       "3      0            113803  53.1000  C123        S  \n",
       "4      0            373450   8.0500   NaN        S  "
      ]
     },
     "execution_count": 3,
     "metadata": {},
     "output_type": "execute_result"
    }
   ],
   "source": [
    "data.head()"
   ]
  },
  {
   "cell_type": "code",
   "execution_count": 4,
   "metadata": {},
   "outputs": [
    {
     "data": {
      "text/html": [
       "<div>\n",
       "<style scoped>\n",
       "    .dataframe tbody tr th:only-of-type {\n",
       "        vertical-align: middle;\n",
       "    }\n",
       "\n",
       "    .dataframe tbody tr th {\n",
       "        vertical-align: top;\n",
       "    }\n",
       "\n",
       "    .dataframe thead th {\n",
       "        text-align: right;\n",
       "    }\n",
       "</style>\n",
       "<table border=\"1\" class=\"dataframe\">\n",
       "  <thead>\n",
       "    <tr style=\"text-align: right;\">\n",
       "      <th></th>\n",
       "      <th>Survived</th>\n",
       "      <th>Pclass</th>\n",
       "      <th>Sex</th>\n",
       "      <th>Age</th>\n",
       "      <th>SibSp</th>\n",
       "      <th>Parch</th>\n",
       "      <th>Fare</th>\n",
       "      <th>Embarked</th>\n",
       "    </tr>\n",
       "  </thead>\n",
       "  <tbody>\n",
       "    <tr>\n",
       "      <td>0</td>\n",
       "      <td>0</td>\n",
       "      <td>3</td>\n",
       "      <td>male</td>\n",
       "      <td>22.0</td>\n",
       "      <td>1</td>\n",
       "      <td>0</td>\n",
       "      <td>7.2500</td>\n",
       "      <td>S</td>\n",
       "    </tr>\n",
       "    <tr>\n",
       "      <td>1</td>\n",
       "      <td>1</td>\n",
       "      <td>1</td>\n",
       "      <td>female</td>\n",
       "      <td>38.0</td>\n",
       "      <td>1</td>\n",
       "      <td>0</td>\n",
       "      <td>71.2833</td>\n",
       "      <td>C</td>\n",
       "    </tr>\n",
       "  </tbody>\n",
       "</table>\n",
       "</div>"
      ],
      "text/plain": [
       "   Survived  Pclass     Sex   Age  SibSp  Parch     Fare Embarked\n",
       "0         0       3    male  22.0      1      0   7.2500        S\n",
       "1         1       1  female  38.0      1      0  71.2833        C"
      ]
     },
     "execution_count": 4,
     "metadata": {},
     "output_type": "execute_result"
    }
   ],
   "source": [
    "drop_cols = ['PassengerId','Name','Ticket','Cabin']\n",
    "data.drop(columns=drop_cols,axis=1, inplace=True)\n",
    "data.head(2)"
   ]
  },
  {
   "cell_type": "code",
   "execution_count": 5,
   "metadata": {},
   "outputs": [
    {
     "data": {
      "text/html": [
       "<div>\n",
       "<style scoped>\n",
       "    .dataframe tbody tr th:only-of-type {\n",
       "        vertical-align: middle;\n",
       "    }\n",
       "\n",
       "    .dataframe tbody tr th {\n",
       "        vertical-align: top;\n",
       "    }\n",
       "\n",
       "    .dataframe thead th {\n",
       "        text-align: right;\n",
       "    }\n",
       "</style>\n",
       "<table border=\"1\" class=\"dataframe\">\n",
       "  <thead>\n",
       "    <tr style=\"text-align: right;\">\n",
       "      <th></th>\n",
       "      <th>Survived</th>\n",
       "      <th>Pclass</th>\n",
       "      <th>Sex</th>\n",
       "      <th>Age</th>\n",
       "      <th>SibSp</th>\n",
       "      <th>Parch</th>\n",
       "      <th>Fare</th>\n",
       "      <th>Embarked</th>\n",
       "    </tr>\n",
       "  </thead>\n",
       "  <tbody>\n",
       "    <tr>\n",
       "      <td>0</td>\n",
       "      <td>0</td>\n",
       "      <td>3</td>\n",
       "      <td>0</td>\n",
       "      <td>22.0</td>\n",
       "      <td>1</td>\n",
       "      <td>0</td>\n",
       "      <td>7.2500</td>\n",
       "      <td>S</td>\n",
       "    </tr>\n",
       "    <tr>\n",
       "      <td>1</td>\n",
       "      <td>1</td>\n",
       "      <td>1</td>\n",
       "      <td>1</td>\n",
       "      <td>38.0</td>\n",
       "      <td>1</td>\n",
       "      <td>0</td>\n",
       "      <td>71.2833</td>\n",
       "      <td>C</td>\n",
       "    </tr>\n",
       "    <tr>\n",
       "      <td>2</td>\n",
       "      <td>1</td>\n",
       "      <td>3</td>\n",
       "      <td>1</td>\n",
       "      <td>26.0</td>\n",
       "      <td>0</td>\n",
       "      <td>0</td>\n",
       "      <td>7.9250</td>\n",
       "      <td>S</td>\n",
       "    </tr>\n",
       "    <tr>\n",
       "      <td>3</td>\n",
       "      <td>1</td>\n",
       "      <td>1</td>\n",
       "      <td>1</td>\n",
       "      <td>35.0</td>\n",
       "      <td>1</td>\n",
       "      <td>0</td>\n",
       "      <td>53.1000</td>\n",
       "      <td>S</td>\n",
       "    </tr>\n",
       "    <tr>\n",
       "      <td>4</td>\n",
       "      <td>0</td>\n",
       "      <td>3</td>\n",
       "      <td>0</td>\n",
       "      <td>35.0</td>\n",
       "      <td>0</td>\n",
       "      <td>0</td>\n",
       "      <td>8.0500</td>\n",
       "      <td>S</td>\n",
       "    </tr>\n",
       "  </tbody>\n",
       "</table>\n",
       "</div>"
      ],
      "text/plain": [
       "   Survived  Pclass  Sex   Age  SibSp  Parch     Fare Embarked\n",
       "0         0       3    0  22.0      1      0   7.2500        S\n",
       "1         1       1    1  38.0      1      0  71.2833        C\n",
       "2         1       3    1  26.0      0      0   7.9250        S\n",
       "3         1       1    1  35.0      1      0  53.1000        S\n",
       "4         0       3    0  35.0      0      0   8.0500        S"
      ]
     },
     "execution_count": 5,
     "metadata": {},
     "output_type": "execute_result"
    }
   ],
   "source": [
    "#convert sex column to binary encoding\n",
    "#dictionary t oreplace values\n",
    "data['Sex'] = data['Sex'].map({'male':0,'female':1})\n",
    "data.head()"
   ]
  },
  {
   "cell_type": "code",
   "execution_count": 6,
   "metadata": {},
   "outputs": [
    {
     "data": {
      "text/plain": [
       "24.00    30\n",
       "22.00    27\n",
       "18.00    26\n",
       "19.00    25\n",
       "30.00    25\n",
       "         ..\n",
       "55.50     1\n",
       "70.50     1\n",
       "66.00     1\n",
       "23.50     1\n",
       "0.42      1\n",
       "Name: Age, Length: 88, dtype: int64"
      ]
     },
     "execution_count": 6,
     "metadata": {},
     "output_type": "execute_result"
    }
   ],
   "source": [
    "data['Age'].value_counts()"
   ]
  },
  {
   "cell_type": "code",
   "execution_count": 7,
   "metadata": {},
   "outputs": [
    {
     "data": {
      "text/html": [
       "<div>\n",
       "<style scoped>\n",
       "    .dataframe tbody tr th:only-of-type {\n",
       "        vertical-align: middle;\n",
       "    }\n",
       "\n",
       "    .dataframe tbody tr th {\n",
       "        vertical-align: top;\n",
       "    }\n",
       "\n",
       "    .dataframe thead th {\n",
       "        text-align: right;\n",
       "    }\n",
       "</style>\n",
       "<table border=\"1\" class=\"dataframe\">\n",
       "  <thead>\n",
       "    <tr style=\"text-align: right;\">\n",
       "      <th></th>\n",
       "      <th>Survived</th>\n",
       "      <th>Pclass</th>\n",
       "      <th>Sex</th>\n",
       "      <th>Age</th>\n",
       "      <th>SibSp</th>\n",
       "      <th>Parch</th>\n",
       "      <th>Fare</th>\n",
       "      <th>Embarked</th>\n",
       "    </tr>\n",
       "  </thead>\n",
       "  <tbody>\n",
       "    <tr>\n",
       "      <td>0</td>\n",
       "      <td>0</td>\n",
       "      <td>3</td>\n",
       "      <td>0</td>\n",
       "      <td>22.0</td>\n",
       "      <td>1</td>\n",
       "      <td>0</td>\n",
       "      <td>7.2500</td>\n",
       "      <td>S</td>\n",
       "    </tr>\n",
       "    <tr>\n",
       "      <td>1</td>\n",
       "      <td>1</td>\n",
       "      <td>1</td>\n",
       "      <td>1</td>\n",
       "      <td>38.0</td>\n",
       "      <td>1</td>\n",
       "      <td>0</td>\n",
       "      <td>71.2833</td>\n",
       "      <td>C</td>\n",
       "    </tr>\n",
       "    <tr>\n",
       "      <td>2</td>\n",
       "      <td>1</td>\n",
       "      <td>3</td>\n",
       "      <td>1</td>\n",
       "      <td>26.0</td>\n",
       "      <td>0</td>\n",
       "      <td>0</td>\n",
       "      <td>7.9250</td>\n",
       "      <td>S</td>\n",
       "    </tr>\n",
       "    <tr>\n",
       "      <td>3</td>\n",
       "      <td>1</td>\n",
       "      <td>1</td>\n",
       "      <td>1</td>\n",
       "      <td>35.0</td>\n",
       "      <td>1</td>\n",
       "      <td>0</td>\n",
       "      <td>53.1000</td>\n",
       "      <td>S</td>\n",
       "    </tr>\n",
       "    <tr>\n",
       "      <td>4</td>\n",
       "      <td>0</td>\n",
       "      <td>3</td>\n",
       "      <td>0</td>\n",
       "      <td>35.0</td>\n",
       "      <td>0</td>\n",
       "      <td>0</td>\n",
       "      <td>8.0500</td>\n",
       "      <td>S</td>\n",
       "    </tr>\n",
       "  </tbody>\n",
       "</table>\n",
       "</div>"
      ],
      "text/plain": [
       "   Survived  Pclass  Sex   Age  SibSp  Parch     Fare Embarked\n",
       "0         0       3    0  22.0      1      0   7.2500        S\n",
       "1         1       1    1  38.0      1      0  71.2833        C\n",
       "2         1       3    1  26.0      0      0   7.9250        S\n",
       "3         1       1    1  35.0      1      0  53.1000        S\n",
       "4         0       3    0  35.0      0      0   8.0500        S"
      ]
     },
     "execution_count": 7,
     "metadata": {},
     "output_type": "execute_result"
    }
   ],
   "source": [
    "data.head()"
   ]
  },
  {
   "cell_type": "markdown",
   "metadata": {},
   "source": [
    "## EDA\n",
    "### Target"
   ]
  },
  {
   "cell_type": "code",
   "execution_count": 8,
   "metadata": {},
   "outputs": [
    {
     "name": "stdout",
     "output_type": "stream",
     "text": [
      "0    549\n",
      "1    342\n",
      "Name: Survived, dtype: int64\n",
      "\n",
      "\n",
      "0    0.616162\n",
      "1    0.383838\n",
      "Name: Survived, dtype: float64\n",
      "---------------------------------------------\n"
     ]
    },
    {
     "data": {
      "image/png": "[encoded data removed]",
      "text/plain": [
       "<Figure size 432x432 with 1 Axes>"
      ]
     },
     "metadata": {
      "needs_background": "light"
     },
     "output_type": "display_data"
    }
   ],
   "source": [
    "\"\"\"\n",
    "def create_boxplot(df):\n",
    "    fig, ax = plt.subplots()\n",
    "    # build a box plot\n",
    "    ax.boxplot(df)\n",
    "\n",
    "    # title and axis labels\n",
    "    ax.set_title('box plot')\n",
    "    ax.set_xlabel('x-axis')\n",
    "    ax.set_ylabel('y-axis')\n",
    "    #xticklabels=['category 1', 'category 2', 'category 3', 'category 4']\n",
    "    #ax.set_xticklabels(xticklabels)\n",
    "\n",
    "\n",
    "    # add horizontal grid lines\n",
    "    ax.yaxis.grid(True)\n",
    "\n",
    "\n",
    "\"\"\"\n",
    "def count_plot(dataframe,target, ocol,lcol):\n",
    "    print(dataframe[target].value_counts())\n",
    "    print('\\n')\n",
    "    print(dataframe[target].value_counts(normalize=True))\n",
    "    dashes = dashes='---'*15\n",
    "    print(dashes)\n",
    "    \n",
    "    fig,ax = plt.subplots(figsize=(6,6,))\n",
    "    fig.figsize=[5,5]\n",
    "    sns.countplot(x=target, data=dataframe, palette=\"bwr\")\n",
    "    ax.set_title(f'# of Passengers that {ocol}/{lcol}')\n",
    "    ax.set_xticklabels(['Died / 0', 'Survived / 1'])\n",
    "    plt.show()\n",
    "    return ax\n",
    "\n",
    "#executing with arguments\n",
    "#,ocol='Died',lcol='Survived'\n",
    "axer = count_plot(dataframe=data,target='Survived',ocol='Died',lcol='Survived');\n",
    "#type(ax)"
   ]
  },
  {
   "cell_type": "code",
   "execution_count": 9,
   "metadata": {},
   "outputs": [
    {
     "data": {
      "image/png": "[encoded data removed]",
      "text/plain": [
       "<Figure size 432x288 with 1 Axes>"
      ]
     },
     "metadata": {
      "needs_background": "light"
     },
     "output_type": "display_data"
    }
   ],
   "source": [
    "def count_plot(df):\n",
    "    \n",
    "    fig,ax = plt.subplots(figsize=(8,8,))\n",
    "    fig.figsize=[7,8]\n",
    "    sns.boxplot(data=df, palette=\"bwr\")\n",
    "    ax.set_title('Boxplot')\n",
    "    #ax.set_xticklabels(['Died / 0', 'Survived / 1'])\n",
    "    plt.show()\n",
    "    return ax\n",
    "sns.boxplot(data=data);"
   ]
  },
  {
   "cell_type": "code",
   "execution_count": 10,
   "metadata": {},
   "outputs": [
    {
     "data": {
      "image/png": "[encoded data removed]",
      "text/plain": [
       "<Figure size 576x288 with 1 Axes>"
      ]
     },
     "metadata": {
      "needs_background": "light"
     },
     "output_type": "display_data"
    }
   ],
   "source": [
    "#fare\n",
    "\n",
    "\n",
    "def distribution_visualization(df,col = 'Fare',hist_kws=None, kde_kws={'color':'red'}, figsize=(8,4)):\n",
    "    \"\"\"\n",
    "    plots a seaborn distplot for column w/customization\n",
    "    Args\n",
    "    df (df)\n",
    "    col (int)\n",
    "    hist_kws (dict)\n",
    "    figsize (dict)\n",
    "    \n",
    "    \"\"\"\n",
    "    if hist_kws == None:\n",
    "        {'alpha':0.5,'edgecolor':'black'}\n",
    "    \n",
    "    fig,ax = plt.subplots(figsize=figsize)\n",
    "    sns.distplot(data[col], hist_kws= hist_kws,ax=ax, kde_kws=kde_kws)\n",
    "\n",
    "    label_font = {'weight':'bold','size':16}\n",
    "    ax.set_ylabel('Counts',fontdict=label_font)\n",
    "    ax.set_xlabel(col,fontdict=label_font)\n",
    "    ax.set_title(f'Distribution of {col.title()}',fontdict=label_font)\n",
    "\n",
    "distribution_visualization(data)"
   ]
  },
  {
   "cell_type": "code",
   "execution_count": 11,
   "metadata": {},
   "outputs": [
    {
     "data": {
      "image/png": "[encoded data removed]",
      "text/plain": [
       "<Figure size 576x288 with 2 Axes>"
      ]
     },
     "metadata": {
      "needs_background": "light"
     },
     "output_type": "display_data"
    }
   ],
   "source": [
    "def distribution_visualization(df,col = 'Fare',target='Survived',hist_kws=None, kde_kws={'color':'red'}, figsize=(8,4)):\n",
    "    \"\"\"\n",
    "    plots a seaborn distplot for column w/customization\n",
    "    Args\n",
    "    df (df)\n",
    "    col (int)\n",
    "    hist_kws (dict)\n",
    "    figsize (dict)\n",
    "    \n",
    "    \"\"\"\n",
    "    if hist_kws == None:\n",
    "        {'alpha':0.5,'edgecolor':'black'}\n",
    "    \n",
    "    fig,ax = plt.subplots(ncols=2, figsize=figsize)\n",
    "    sns.distplot(data[col], hist_kws= hist_kws,ax=ax[0], kde_kws=kde_kws)\n",
    "    df.plot(kind='scatter',x=col, y=target, ax=ax[1])\n",
    "\n",
    "    label_font = {'weight':'bold','size':16}\n",
    "    \n",
    "    ax_list = ax\n",
    "    for ax in ax_list:\n",
    "        ax.set_ylabel('Counts',fontdict=label_font)\n",
    "        ax.set_xlabel(col,fontdict=label_font)\n",
    "        ax.set_title(f'Distribution of {col.title()}',fontdict=label_font)\n",
    "    plt.tight_layout() \n",
    "    \n",
    "    return fig, ax\n",
    "\n",
    "fig, ax = distribution_visualization(data)"
   ]
  },
  {
   "cell_type": "markdown",
   "metadata": {},
   "source": [
    "### Null Values"
   ]
  },
  {
   "cell_type": "code",
   "execution_count": 12,
   "metadata": {},
   "outputs": [],
   "source": [
    "# total = train_df.isnull().sum().sort_values(ascending=False)\n",
    "# percent_1 = train_df.isnull().sum()/train_df.isnull().count()*100\n",
    "# percent_2 = (round(percent_1, 1)).sort_values(ascending=False)\n",
    "# missing_data = pd.concat([total, percent_2], axis=1, keys=['Total', '%'])\n",
    "# missing_data.head(5)"
   ]
  },
  {
   "cell_type": "code",
   "execution_count": 13,
   "metadata": {},
   "outputs": [
    {
     "name": "stdout",
     "output_type": "stream",
     "text": [
      "<class 'pandas.core.frame.DataFrame'>\n",
      "RangeIndex: 891 entries, 0 to 890\n",
      "Data columns (total 8 columns):\n",
      "Survived    891 non-null int64\n",
      "Pclass      891 non-null int64\n",
      "Sex         891 non-null int64\n",
      "Age         714 non-null float64\n",
      "SibSp       891 non-null int64\n",
      "Parch       891 non-null int64\n",
      "Fare        891 non-null float64\n",
      "Embarked    889 non-null object\n",
      "dtypes: float64(2), int64(5), object(1)\n",
      "memory usage: 55.8+ KB\n",
      "------------------------------------------------------------\n",
      "\n",
      "\n",
      "Number of uniques values in each Feature:\n"
     ]
    },
    {
     "data": {
      "text/plain": [
       "Survived      2\n",
       "Pclass        3\n",
       "Sex           2\n",
       "Age          88\n",
       "SibSp         7\n",
       "Parch         7\n",
       "Fare        248\n",
       "Embarked      3\n",
       "dtype: int64"
      ]
     },
     "execution_count": 13,
     "metadata": {},
     "output_type": "execute_result"
    }
   ],
   "source": [
    "def unique_values(df):\n",
    "    info_df = df.info()\n",
    "    print(dashes)\n",
    "    print('\\n')\n",
    "    num_unique = df.nunique()\n",
    "    print(\"Number of uniques values in each Feature:\")\n",
    "    \n",
    "    return num_unique\n",
    "\n",
    "unique_values(data)"
   ]
  },
  {
   "cell_type": "code",
   "execution_count": 14,
   "metadata": {},
   "outputs": [],
   "source": [
    "def nan_more_fifty(df): \n",
    "    for column in df:\n",
    "        if df[column].isnull().sum()*100.0/df.shape[0] > 50:\n",
    "            df.drop(column,1, inplace=True)\n",
    "        #else:\n",
    "    print('There are no columns with 50% null values')\n",
    "    return df        \n"
   ]
  },
  {
   "cell_type": "code",
   "execution_count": 15,
   "metadata": {},
   "outputs": [
    {
     "name": "stdout",
     "output_type": "stream",
     "text": [
      "There are no columns with 50% null values\n"
     ]
    }
   ],
   "source": [
    "revised = nan_more_fifty(data)"
   ]
  },
  {
   "cell_type": "code",
   "execution_count": 16,
   "metadata": {},
   "outputs": [
    {
     "name": "stdout",
     "output_type": "stream",
     "text": [
      "Index(['Age', 'Embarked'], dtype='object')\n"
     ]
    },
    {
     "data": {
      "text/plain": [
       "Age         177\n",
       "Embarked      2\n",
       "dtype: int64"
      ]
     },
     "execution_count": 16,
     "metadata": {},
     "output_type": "execute_result"
    },
    {
     "data": {
      "image/png": "[encoded data removed]",
      "text/plain": [
       "<Figure size 1800x720 with 2 Axes>"
      ]
     },
     "metadata": {
      "needs_background": "light"
     },
     "output_type": "display_data"
    }
   ],
   "source": [
    "def count_null(df):\n",
    "    #only features w/null values\n",
    "    null_columns=df.columns[df.isnull().any()]\n",
    "    test = df[null_columns].isnull().sum()\n",
    "    if test.empty:\n",
    "        print('No nulls')\n",
    "    else:\n",
    "        print(null_columns)\n",
    "    \n",
    "    # Visualize missing values as a matrix \n",
    "    msno.matrix(df) \n",
    "    \n",
    "    return test\n",
    "    \n",
    "count_null(data)  "
   ]
  },
  {
   "cell_type": "code",
   "execution_count": null,
   "metadata": {},
   "outputs": [],
   "source": []
  },
  {
   "cell_type": "markdown",
   "metadata": {},
   "source": [
    "### Train Test Split"
   ]
  },
  {
   "cell_type": "code",
   "execution_count": 17,
   "metadata": {},
   "outputs": [],
   "source": [
    "from sklearn.model_selection import train_test_split"
   ]
  },
  {
   "cell_type": "code",
   "execution_count": 18,
   "metadata": {},
   "outputs": [],
   "source": [
    "y = data['Survived'].copy()\n",
    "X = data[['Pclass','Sex','SibSp','Age','Parch','Fare','Embarked']]"
   ]
  },
  {
   "cell_type": "code",
   "execution_count": 19,
   "metadata": {},
   "outputs": [],
   "source": [
    "X_train, X_test, y_train, y_test = train_test_split(X, y, test_size= 0.25, random_state=42)"
   ]
  },
  {
   "cell_type": "code",
   "execution_count": 20,
   "metadata": {},
   "outputs": [
    {
     "name": "stdout",
     "output_type": "stream",
     "text": [
      "(668, 7)\n",
      "(668,)\n",
      "(223, 7)\n",
      "(223,)\n"
     ]
    }
   ],
   "source": [
    "print(X_train.shape)\n",
    "print(y_train.shape)\n",
    "print(X_test.shape)\n",
    "print(y_test.shape)"
   ]
  },
  {
   "cell_type": "code",
   "execution_count": 21,
   "metadata": {},
   "outputs": [
    {
     "data": {
      "text/html": [
       "<div>\n",
       "<style scoped>\n",
       "    .dataframe tbody tr th:only-of-type {\n",
       "        vertical-align: middle;\n",
       "    }\n",
       "\n",
       "    .dataframe tbody tr th {\n",
       "        vertical-align: top;\n",
       "    }\n",
       "\n",
       "    .dataframe thead th {\n",
       "        text-align: right;\n",
       "    }\n",
       "</style>\n",
       "<table border=\"1\" class=\"dataframe\">\n",
       "  <thead>\n",
       "    <tr style=\"text-align: right;\">\n",
       "      <th></th>\n",
       "      <th>Pclass</th>\n",
       "      <th>Sex</th>\n",
       "      <th>SibSp</th>\n",
       "      <th>Age</th>\n",
       "      <th>Parch</th>\n",
       "      <th>Fare</th>\n",
       "      <th>Embarked</th>\n",
       "    </tr>\n",
       "  </thead>\n",
       "  <tbody>\n",
       "    <tr>\n",
       "      <td>298</td>\n",
       "      <td>1</td>\n",
       "      <td>0</td>\n",
       "      <td>0</td>\n",
       "      <td>NaN</td>\n",
       "      <td>0</td>\n",
       "      <td>30.5000</td>\n",
       "      <td>S</td>\n",
       "    </tr>\n",
       "    <tr>\n",
       "      <td>884</td>\n",
       "      <td>3</td>\n",
       "      <td>0</td>\n",
       "      <td>0</td>\n",
       "      <td>25.00</td>\n",
       "      <td>0</td>\n",
       "      <td>7.0500</td>\n",
       "      <td>S</td>\n",
       "    </tr>\n",
       "    <tr>\n",
       "      <td>247</td>\n",
       "      <td>2</td>\n",
       "      <td>1</td>\n",
       "      <td>0</td>\n",
       "      <td>24.00</td>\n",
       "      <td>2</td>\n",
       "      <td>14.5000</td>\n",
       "      <td>S</td>\n",
       "    </tr>\n",
       "    <tr>\n",
       "      <td>478</td>\n",
       "      <td>3</td>\n",
       "      <td>0</td>\n",
       "      <td>0</td>\n",
       "      <td>22.00</td>\n",
       "      <td>0</td>\n",
       "      <td>7.5208</td>\n",
       "      <td>S</td>\n",
       "    </tr>\n",
       "    <tr>\n",
       "      <td>305</td>\n",
       "      <td>1</td>\n",
       "      <td>0</td>\n",
       "      <td>1</td>\n",
       "      <td>0.92</td>\n",
       "      <td>2</td>\n",
       "      <td>151.5500</td>\n",
       "      <td>S</td>\n",
       "    </tr>\n",
       "  </tbody>\n",
       "</table>\n",
       "</div>"
      ],
      "text/plain": [
       "     Pclass  Sex  SibSp    Age  Parch      Fare Embarked\n",
       "298       1    0      0    NaN      0   30.5000        S\n",
       "884       3    0      0  25.00      0    7.0500        S\n",
       "247       2    1      0  24.00      2   14.5000        S\n",
       "478       3    0      0  22.00      0    7.5208        S\n",
       "305       1    0      1   0.92      2  151.5500        S"
      ]
     },
     "execution_count": 21,
     "metadata": {},
     "output_type": "execute_result"
    }
   ],
   "source": [
    "X_train.head()"
   ]
  },
  {
   "cell_type": "code",
   "execution_count": 22,
   "metadata": {},
   "outputs": [
    {
     "name": "stdout",
     "output_type": "stream",
     "text": [
      "<class 'pandas.core.frame.DataFrame'>\n",
      "Int64Index: 668 entries, 298 to 102\n",
      "Data columns (total 7 columns):\n",
      "Pclass      668 non-null int64\n",
      "Sex         668 non-null int64\n",
      "SibSp       668 non-null int64\n",
      "Age         536 non-null float64\n",
      "Parch       668 non-null int64\n",
      "Fare        668 non-null float64\n",
      "Embarked    666 non-null object\n",
      "dtypes: float64(2), int64(4), object(1)\n",
      "memory usage: 41.8+ KB\n"
     ]
    }
   ],
   "source": [
    "X_train.info()"
   ]
  },
  {
   "cell_type": "code",
   "execution_count": 23,
   "metadata": {},
   "outputs": [],
   "source": [
    "\"\"\"\n",
    "df= df.dropna(subset='Embarked')\n",
    "\n",
    "\"\"\"\n",
    "from sklearn.impute import SimpleImputer\n",
    "\n",
    "def remake(X_train_cln,X_train):\n",
    "       return pd.DataFrame(X_train_cln,columns=X_train.columns, index=X_train.index)\n",
    "\n",
    "def impute(X_train, X_test):\n",
    "    imputer = SimpleImputer(strategy='most_frequent')\n",
    "    X_train_cln = remake(imputer.fit_transform(X_train), X_train) #remake function\n",
    "    X_test_cln = remake(imputer.transform(X_test ), X_test)\n",
    "    X_test_cln\n",
    "    #X_train_cln = X_train_cln.astype(float)\n",
    "    #X_test_cln = X_test_cln.astype(float)\n",
    "    \n",
    "    return X_train_cln, X_test_cln"
   ]
  },
  {
   "cell_type": "code",
   "execution_count": 24,
   "metadata": {},
   "outputs": [
    {
     "data": {
      "text/html": [
       "<div>\n",
       "<style scoped>\n",
       "    .dataframe tbody tr th:only-of-type {\n",
       "        vertical-align: middle;\n",
       "    }\n",
       "\n",
       "    .dataframe tbody tr th {\n",
       "        vertical-align: top;\n",
       "    }\n",
       "\n",
       "    .dataframe thead th {\n",
       "        text-align: right;\n",
       "    }\n",
       "</style>\n",
       "<table border=\"1\" class=\"dataframe\">\n",
       "  <thead>\n",
       "    <tr style=\"text-align: right;\">\n",
       "      <th></th>\n",
       "      <th>Pclass</th>\n",
       "      <th>Sex</th>\n",
       "      <th>SibSp</th>\n",
       "      <th>Age</th>\n",
       "      <th>Parch</th>\n",
       "      <th>Fare</th>\n",
       "      <th>Embarked</th>\n",
       "    </tr>\n",
       "  </thead>\n",
       "  <tbody>\n",
       "    <tr>\n",
       "      <td>298</td>\n",
       "      <td>1</td>\n",
       "      <td>0</td>\n",
       "      <td>0</td>\n",
       "      <td>24</td>\n",
       "      <td>0</td>\n",
       "      <td>30.5</td>\n",
       "      <td>S</td>\n",
       "    </tr>\n",
       "    <tr>\n",
       "      <td>884</td>\n",
       "      <td>3</td>\n",
       "      <td>0</td>\n",
       "      <td>0</td>\n",
       "      <td>25</td>\n",
       "      <td>0</td>\n",
       "      <td>7.05</td>\n",
       "      <td>S</td>\n",
       "    </tr>\n",
       "    <tr>\n",
       "      <td>247</td>\n",
       "      <td>2</td>\n",
       "      <td>1</td>\n",
       "      <td>0</td>\n",
       "      <td>24</td>\n",
       "      <td>2</td>\n",
       "      <td>14.5</td>\n",
       "      <td>S</td>\n",
       "    </tr>\n",
       "    <tr>\n",
       "      <td>478</td>\n",
       "      <td>3</td>\n",
       "      <td>0</td>\n",
       "      <td>0</td>\n",
       "      <td>22</td>\n",
       "      <td>0</td>\n",
       "      <td>7.5208</td>\n",
       "      <td>S</td>\n",
       "    </tr>\n",
       "    <tr>\n",
       "      <td>305</td>\n",
       "      <td>1</td>\n",
       "      <td>0</td>\n",
       "      <td>1</td>\n",
       "      <td>0.92</td>\n",
       "      <td>2</td>\n",
       "      <td>151.55</td>\n",
       "      <td>S</td>\n",
       "    </tr>\n",
       "    <tr>\n",
       "      <td>...</td>\n",
       "      <td>...</td>\n",
       "      <td>...</td>\n",
       "      <td>...</td>\n",
       "      <td>...</td>\n",
       "      <td>...</td>\n",
       "      <td>...</td>\n",
       "      <td>...</td>\n",
       "    </tr>\n",
       "    <tr>\n",
       "      <td>106</td>\n",
       "      <td>3</td>\n",
       "      <td>1</td>\n",
       "      <td>0</td>\n",
       "      <td>21</td>\n",
       "      <td>0</td>\n",
       "      <td>7.65</td>\n",
       "      <td>S</td>\n",
       "    </tr>\n",
       "    <tr>\n",
       "      <td>270</td>\n",
       "      <td>1</td>\n",
       "      <td>0</td>\n",
       "      <td>0</td>\n",
       "      <td>24</td>\n",
       "      <td>0</td>\n",
       "      <td>31</td>\n",
       "      <td>S</td>\n",
       "    </tr>\n",
       "    <tr>\n",
       "      <td>860</td>\n",
       "      <td>3</td>\n",
       "      <td>0</td>\n",
       "      <td>2</td>\n",
       "      <td>41</td>\n",
       "      <td>0</td>\n",
       "      <td>14.1083</td>\n",
       "      <td>S</td>\n",
       "    </tr>\n",
       "    <tr>\n",
       "      <td>435</td>\n",
       "      <td>1</td>\n",
       "      <td>1</td>\n",
       "      <td>1</td>\n",
       "      <td>14</td>\n",
       "      <td>2</td>\n",
       "      <td>120</td>\n",
       "      <td>S</td>\n",
       "    </tr>\n",
       "    <tr>\n",
       "      <td>102</td>\n",
       "      <td>1</td>\n",
       "      <td>0</td>\n",
       "      <td>0</td>\n",
       "      <td>21</td>\n",
       "      <td>1</td>\n",
       "      <td>77.2875</td>\n",
       "      <td>S</td>\n",
       "    </tr>\n",
       "  </tbody>\n",
       "</table>\n",
       "<p>668 rows × 7 columns</p>\n",
       "</div>"
      ],
      "text/plain": [
       "    Pclass Sex SibSp   Age Parch     Fare Embarked\n",
       "298      1   0     0    24     0     30.5        S\n",
       "884      3   0     0    25     0     7.05        S\n",
       "247      2   1     0    24     2     14.5        S\n",
       "478      3   0     0    22     0   7.5208        S\n",
       "305      1   0     1  0.92     2   151.55        S\n",
       "..     ...  ..   ...   ...   ...      ...      ...\n",
       "106      3   1     0    21     0     7.65        S\n",
       "270      1   0     0    24     0       31        S\n",
       "860      3   0     2    41     0  14.1083        S\n",
       "435      1   1     1    14     2      120        S\n",
       "102      1   0     0    21     1  77.2875        S\n",
       "\n",
       "[668 rows x 7 columns]"
      ]
     },
     "execution_count": 24,
     "metadata": {},
     "output_type": "execute_result"
    }
   ],
   "source": [
    "X_train_cln, X_test_cln = impute(X_train,X_test)\n",
    "X_train_cln"
   ]
  },
  {
   "cell_type": "code",
   "execution_count": 25,
   "metadata": {},
   "outputs": [
    {
     "data": {
      "text/plain": [
       "Pclass      0\n",
       "Sex         0\n",
       "SibSp       0\n",
       "Age         0\n",
       "Parch       0\n",
       "Fare        0\n",
       "Embarked    0\n",
       "dtype: int64"
      ]
     },
     "execution_count": 25,
     "metadata": {},
     "output_type": "execute_result"
    }
   ],
   "source": [
    "X_train_cln.isna().sum()"
   ]
  },
  {
   "cell_type": "code",
   "execution_count": 26,
   "metadata": {},
   "outputs": [
    {
     "data": {
      "text/plain": [
       "24.00    156\n",
       "22.00     23\n",
       "28.00     21\n",
       "25.00     19\n",
       "18.00     19\n",
       "        ... \n",
       "65.00      1\n",
       "61.00      1\n",
       "57.00      1\n",
       "34.50      1\n",
       "0.92       1\n",
       "Name: Age, Length: 82, dtype: int64"
      ]
     },
     "execution_count": 26,
     "metadata": {},
     "output_type": "execute_result"
    }
   ],
   "source": [
    "X_train_cln.Age.value_counts()"
   ]
  },
  {
   "cell_type": "code",
   "execution_count": 27,
   "metadata": {},
   "outputs": [
    {
     "data": {
      "text/plain": [
       "24.00    156\n",
       "22.00     23\n",
       "28.00     21\n",
       "25.00     19\n",
       "18.00     19\n",
       "        ... \n",
       "65.00      1\n",
       "61.00      1\n",
       "57.00      1\n",
       "34.50      1\n",
       "0.92       1\n",
       "Name: Age, Length: 82, dtype: int64"
      ]
     },
     "execution_count": 27,
     "metadata": {},
     "output_type": "execute_result"
    }
   ],
   "source": [
    "X_train_cln.Age.value_counts()"
   ]
  },
  {
   "cell_type": "code",
   "execution_count": 28,
   "metadata": {},
   "outputs": [
    {
     "name": "stdout",
     "output_type": "stream",
     "text": [
      "<class 'pandas.core.frame.DataFrame'>\n",
      "Int64Index: 668 entries, 298 to 102\n",
      "Data columns (total 7 columns):\n",
      "Pclass      668 non-null object\n",
      "Sex         668 non-null object\n",
      "SibSp       668 non-null object\n",
      "Age         668 non-null object\n",
      "Parch       668 non-null object\n",
      "Fare        668 non-null object\n",
      "Embarked    668 non-null object\n",
      "dtypes: object(7)\n",
      "memory usage: 41.8+ KB\n"
     ]
    }
   ],
   "source": [
    "X_train_cln.info()"
   ]
  },
  {
   "cell_type": "markdown",
   "metadata": {},
   "source": [
    "### One Hot Encode Categoricals"
   ]
  },
  {
   "cell_type": "code",
   "execution_count": 29,
   "metadata": {},
   "outputs": [],
   "source": [
    "\"\"\"\n",
    "#columns=['Embarked','cvf','cvbn']\n",
    "\n",
    "cols = ['Embarked']\n",
    "one_hot_train = pd.get_dummies(testor, columns=cols, drop_first=True)\n",
    "one_hot_train.head()\n",
    "\"\"\"\n",
    "cols_hot = ['Embarked']\n",
    "def one_hot(df_train, df_test, columns=cols_hot):\n",
    "    one_hot_train = pd.get_dummies(df_train, columns=cols_hot, drop_first=True)\n",
    "    one_hot_test = pd.get_dummies(df_test, columns=cols_hot, drop_first=True)\n",
    "    \n",
    "    return one_hot_train, one_hot_test"
   ]
  },
  {
   "cell_type": "code",
   "execution_count": 30,
   "metadata": {},
   "outputs": [],
   "source": [
    "one_hot_train_cln, one_hot_test_cln = one_hot(X_train_cln, X_test_cln, cols_hot)"
   ]
  },
  {
   "cell_type": "code",
   "execution_count": 31,
   "metadata": {},
   "outputs": [
    {
     "data": {
      "text/html": [
       "<div>\n",
       "<style scoped>\n",
       "    .dataframe tbody tr th:only-of-type {\n",
       "        vertical-align: middle;\n",
       "    }\n",
       "\n",
       "    .dataframe tbody tr th {\n",
       "        vertical-align: top;\n",
       "    }\n",
       "\n",
       "    .dataframe thead th {\n",
       "        text-align: right;\n",
       "    }\n",
       "</style>\n",
       "<table border=\"1\" class=\"dataframe\">\n",
       "  <thead>\n",
       "    <tr style=\"text-align: right;\">\n",
       "      <th></th>\n",
       "      <th>Pclass</th>\n",
       "      <th>Sex</th>\n",
       "      <th>SibSp</th>\n",
       "      <th>Age</th>\n",
       "      <th>Parch</th>\n",
       "      <th>Fare</th>\n",
       "      <th>Embarked_Q</th>\n",
       "      <th>Embarked_S</th>\n",
       "    </tr>\n",
       "  </thead>\n",
       "  <tbody>\n",
       "    <tr>\n",
       "      <td>298</td>\n",
       "      <td>1</td>\n",
       "      <td>0</td>\n",
       "      <td>0</td>\n",
       "      <td>24</td>\n",
       "      <td>0</td>\n",
       "      <td>30.5</td>\n",
       "      <td>0</td>\n",
       "      <td>1</td>\n",
       "    </tr>\n",
       "    <tr>\n",
       "      <td>884</td>\n",
       "      <td>3</td>\n",
       "      <td>0</td>\n",
       "      <td>0</td>\n",
       "      <td>25</td>\n",
       "      <td>0</td>\n",
       "      <td>7.05</td>\n",
       "      <td>0</td>\n",
       "      <td>1</td>\n",
       "    </tr>\n",
       "    <tr>\n",
       "      <td>247</td>\n",
       "      <td>2</td>\n",
       "      <td>1</td>\n",
       "      <td>0</td>\n",
       "      <td>24</td>\n",
       "      <td>2</td>\n",
       "      <td>14.5</td>\n",
       "      <td>0</td>\n",
       "      <td>1</td>\n",
       "    </tr>\n",
       "    <tr>\n",
       "      <td>478</td>\n",
       "      <td>3</td>\n",
       "      <td>0</td>\n",
       "      <td>0</td>\n",
       "      <td>22</td>\n",
       "      <td>0</td>\n",
       "      <td>7.5208</td>\n",
       "      <td>0</td>\n",
       "      <td>1</td>\n",
       "    </tr>\n",
       "    <tr>\n",
       "      <td>305</td>\n",
       "      <td>1</td>\n",
       "      <td>0</td>\n",
       "      <td>1</td>\n",
       "      <td>0.92</td>\n",
       "      <td>2</td>\n",
       "      <td>151.55</td>\n",
       "      <td>0</td>\n",
       "      <td>1</td>\n",
       "    </tr>\n",
       "    <tr>\n",
       "      <td>...</td>\n",
       "      <td>...</td>\n",
       "      <td>...</td>\n",
       "      <td>...</td>\n",
       "      <td>...</td>\n",
       "      <td>...</td>\n",
       "      <td>...</td>\n",
       "      <td>...</td>\n",
       "      <td>...</td>\n",
       "    </tr>\n",
       "    <tr>\n",
       "      <td>106</td>\n",
       "      <td>3</td>\n",
       "      <td>1</td>\n",
       "      <td>0</td>\n",
       "      <td>21</td>\n",
       "      <td>0</td>\n",
       "      <td>7.65</td>\n",
       "      <td>0</td>\n",
       "      <td>1</td>\n",
       "    </tr>\n",
       "    <tr>\n",
       "      <td>270</td>\n",
       "      <td>1</td>\n",
       "      <td>0</td>\n",
       "      <td>0</td>\n",
       "      <td>24</td>\n",
       "      <td>0</td>\n",
       "      <td>31</td>\n",
       "      <td>0</td>\n",
       "      <td>1</td>\n",
       "    </tr>\n",
       "    <tr>\n",
       "      <td>860</td>\n",
       "      <td>3</td>\n",
       "      <td>0</td>\n",
       "      <td>2</td>\n",
       "      <td>41</td>\n",
       "      <td>0</td>\n",
       "      <td>14.1083</td>\n",
       "      <td>0</td>\n",
       "      <td>1</td>\n",
       "    </tr>\n",
       "    <tr>\n",
       "      <td>435</td>\n",
       "      <td>1</td>\n",
       "      <td>1</td>\n",
       "      <td>1</td>\n",
       "      <td>14</td>\n",
       "      <td>2</td>\n",
       "      <td>120</td>\n",
       "      <td>0</td>\n",
       "      <td>1</td>\n",
       "    </tr>\n",
       "    <tr>\n",
       "      <td>102</td>\n",
       "      <td>1</td>\n",
       "      <td>0</td>\n",
       "      <td>0</td>\n",
       "      <td>21</td>\n",
       "      <td>1</td>\n",
       "      <td>77.2875</td>\n",
       "      <td>0</td>\n",
       "      <td>1</td>\n",
       "    </tr>\n",
       "  </tbody>\n",
       "</table>\n",
       "<p>668 rows × 8 columns</p>\n",
       "</div>"
      ],
      "text/plain": [
       "    Pclass Sex SibSp   Age Parch     Fare  Embarked_Q  Embarked_S\n",
       "298      1   0     0    24     0     30.5           0           1\n",
       "884      3   0     0    25     0     7.05           0           1\n",
       "247      2   1     0    24     2     14.5           0           1\n",
       "478      3   0     0    22     0   7.5208           0           1\n",
       "305      1   0     1  0.92     2   151.55           0           1\n",
       "..     ...  ..   ...   ...   ...      ...         ...         ...\n",
       "106      3   1     0    21     0     7.65           0           1\n",
       "270      1   0     0    24     0       31           0           1\n",
       "860      3   0     2    41     0  14.1083           0           1\n",
       "435      1   1     1    14     2      120           0           1\n",
       "102      1   0     0    21     1  77.2875           0           1\n",
       "\n",
       "[668 rows x 8 columns]"
      ]
     },
     "execution_count": 31,
     "metadata": {},
     "output_type": "execute_result"
    }
   ],
   "source": [
    "one_hot_train_cln"
   ]
  },
  {
   "cell_type": "code",
   "execution_count": 32,
   "metadata": {},
   "outputs": [
    {
     "data": {
      "text/html": [
       "<div>\n",
       "<style scoped>\n",
       "    .dataframe tbody tr th:only-of-type {\n",
       "        vertical-align: middle;\n",
       "    }\n",
       "\n",
       "    .dataframe tbody tr th {\n",
       "        vertical-align: top;\n",
       "    }\n",
       "\n",
       "    .dataframe thead th {\n",
       "        text-align: right;\n",
       "    }\n",
       "</style>\n",
       "<table border=\"1\" class=\"dataframe\">\n",
       "  <thead>\n",
       "    <tr style=\"text-align: right;\">\n",
       "      <th></th>\n",
       "      <th>Pclass</th>\n",
       "      <th>Sex</th>\n",
       "      <th>SibSp</th>\n",
       "      <th>Age</th>\n",
       "      <th>Parch</th>\n",
       "      <th>Fare</th>\n",
       "      <th>Embarked_Q</th>\n",
       "      <th>Embarked_S</th>\n",
       "    </tr>\n",
       "  </thead>\n",
       "  <tbody>\n",
       "    <tr>\n",
       "      <td>709</td>\n",
       "      <td>3</td>\n",
       "      <td>0</td>\n",
       "      <td>1</td>\n",
       "      <td>24</td>\n",
       "      <td>1</td>\n",
       "      <td>15.2458</td>\n",
       "      <td>0</td>\n",
       "      <td>0</td>\n",
       "    </tr>\n",
       "    <tr>\n",
       "      <td>439</td>\n",
       "      <td>2</td>\n",
       "      <td>0</td>\n",
       "      <td>0</td>\n",
       "      <td>31</td>\n",
       "      <td>0</td>\n",
       "      <td>10.5</td>\n",
       "      <td>0</td>\n",
       "      <td>1</td>\n",
       "    </tr>\n",
       "    <tr>\n",
       "      <td>840</td>\n",
       "      <td>3</td>\n",
       "      <td>0</td>\n",
       "      <td>0</td>\n",
       "      <td>20</td>\n",
       "      <td>0</td>\n",
       "      <td>7.925</td>\n",
       "      <td>0</td>\n",
       "      <td>1</td>\n",
       "    </tr>\n",
       "    <tr>\n",
       "      <td>720</td>\n",
       "      <td>2</td>\n",
       "      <td>1</td>\n",
       "      <td>0</td>\n",
       "      <td>6</td>\n",
       "      <td>1</td>\n",
       "      <td>33</td>\n",
       "      <td>0</td>\n",
       "      <td>1</td>\n",
       "    </tr>\n",
       "    <tr>\n",
       "      <td>39</td>\n",
       "      <td>3</td>\n",
       "      <td>1</td>\n",
       "      <td>1</td>\n",
       "      <td>14</td>\n",
       "      <td>0</td>\n",
       "      <td>11.2417</td>\n",
       "      <td>0</td>\n",
       "      <td>0</td>\n",
       "    </tr>\n",
       "    <tr>\n",
       "      <td>...</td>\n",
       "      <td>...</td>\n",
       "      <td>...</td>\n",
       "      <td>...</td>\n",
       "      <td>...</td>\n",
       "      <td>...</td>\n",
       "      <td>...</td>\n",
       "      <td>...</td>\n",
       "      <td>...</td>\n",
       "    </tr>\n",
       "    <tr>\n",
       "      <td>880</td>\n",
       "      <td>2</td>\n",
       "      <td>1</td>\n",
       "      <td>0</td>\n",
       "      <td>25</td>\n",
       "      <td>1</td>\n",
       "      <td>26</td>\n",
       "      <td>0</td>\n",
       "      <td>1</td>\n",
       "    </tr>\n",
       "    <tr>\n",
       "      <td>425</td>\n",
       "      <td>3</td>\n",
       "      <td>0</td>\n",
       "      <td>0</td>\n",
       "      <td>24</td>\n",
       "      <td>0</td>\n",
       "      <td>7.25</td>\n",
       "      <td>0</td>\n",
       "      <td>1</td>\n",
       "    </tr>\n",
       "    <tr>\n",
       "      <td>101</td>\n",
       "      <td>3</td>\n",
       "      <td>0</td>\n",
       "      <td>0</td>\n",
       "      <td>24</td>\n",
       "      <td>0</td>\n",
       "      <td>7.8958</td>\n",
       "      <td>0</td>\n",
       "      <td>1</td>\n",
       "    </tr>\n",
       "    <tr>\n",
       "      <td>199</td>\n",
       "      <td>2</td>\n",
       "      <td>1</td>\n",
       "      <td>0</td>\n",
       "      <td>24</td>\n",
       "      <td>0</td>\n",
       "      <td>13</td>\n",
       "      <td>0</td>\n",
       "      <td>1</td>\n",
       "    </tr>\n",
       "    <tr>\n",
       "      <td>424</td>\n",
       "      <td>3</td>\n",
       "      <td>0</td>\n",
       "      <td>1</td>\n",
       "      <td>18</td>\n",
       "      <td>1</td>\n",
       "      <td>20.2125</td>\n",
       "      <td>0</td>\n",
       "      <td>1</td>\n",
       "    </tr>\n",
       "  </tbody>\n",
       "</table>\n",
       "<p>223 rows × 8 columns</p>\n",
       "</div>"
      ],
      "text/plain": [
       "    Pclass Sex SibSp Age Parch     Fare  Embarked_Q  Embarked_S\n",
       "709      3   0     1  24     1  15.2458           0           0\n",
       "439      2   0     0  31     0     10.5           0           1\n",
       "840      3   0     0  20     0    7.925           0           1\n",
       "720      2   1     0   6     1       33           0           1\n",
       "39       3   1     1  14     0  11.2417           0           0\n",
       "..     ...  ..   ...  ..   ...      ...         ...         ...\n",
       "880      2   1     0  25     1       26           0           1\n",
       "425      3   0     0  24     0     7.25           0           1\n",
       "101      3   0     0  24     0   7.8958           0           1\n",
       "199      2   1     0  24     0       13           0           1\n",
       "424      3   0     1  18     1  20.2125           0           1\n",
       "\n",
       "[223 rows x 8 columns]"
      ]
     },
     "execution_count": 32,
     "metadata": {},
     "output_type": "execute_result"
    }
   ],
   "source": [
    "one_hot_test_cln"
   ]
  },
  {
   "cell_type": "code",
   "execution_count": 33,
   "metadata": {},
   "outputs": [
    {
     "name": "stdout",
     "output_type": "stream",
     "text": [
      "<class 'pandas.core.frame.DataFrame'>\n",
      "Int64Index: 668 entries, 298 to 102\n",
      "Data columns (total 8 columns):\n",
      "Pclass        668 non-null object\n",
      "Sex           668 non-null object\n",
      "SibSp         668 non-null object\n",
      "Age           668 non-null object\n",
      "Parch         668 non-null object\n",
      "Fare          668 non-null object\n",
      "Embarked_Q    668 non-null uint8\n",
      "Embarked_S    668 non-null uint8\n",
      "dtypes: object(6), uint8(2)\n",
      "memory usage: 37.8+ KB\n"
     ]
    }
   ],
   "source": [
    "one_hot_train_cln.info()"
   ]
  },
  {
   "cell_type": "code",
   "execution_count": 34,
   "metadata": {},
   "outputs": [],
   "source": [
    "X_train_int = one_hot_train_cln.copy()\n",
    "X_test_int = one_hot_test_cln.copy()"
   ]
  },
  {
   "cell_type": "code",
   "execution_count": 35,
   "metadata": {},
   "outputs": [],
   "source": [
    "X_train_int = X_train_int.astype(float)\n",
    "X_test_int = X_test_int.astype(float)"
   ]
  },
  {
   "cell_type": "code",
   "execution_count": 36,
   "metadata": {},
   "outputs": [
    {
     "data": {
      "text/html": [
       "<div>\n",
       "<style scoped>\n",
       "    .dataframe tbody tr th:only-of-type {\n",
       "        vertical-align: middle;\n",
       "    }\n",
       "\n",
       "    .dataframe tbody tr th {\n",
       "        vertical-align: top;\n",
       "    }\n",
       "\n",
       "    .dataframe thead th {\n",
       "        text-align: right;\n",
       "    }\n",
       "</style>\n",
       "<table border=\"1\" class=\"dataframe\">\n",
       "  <thead>\n",
       "    <tr style=\"text-align: right;\">\n",
       "      <th></th>\n",
       "      <th>Pclass</th>\n",
       "      <th>Sex</th>\n",
       "      <th>SibSp</th>\n",
       "      <th>Age</th>\n",
       "      <th>Parch</th>\n",
       "      <th>Fare</th>\n",
       "      <th>Embarked_Q</th>\n",
       "      <th>Embarked_S</th>\n",
       "    </tr>\n",
       "  </thead>\n",
       "  <tbody>\n",
       "    <tr>\n",
       "      <td>298</td>\n",
       "      <td>1.0</td>\n",
       "      <td>0.0</td>\n",
       "      <td>0.0</td>\n",
       "      <td>24.00</td>\n",
       "      <td>0.0</td>\n",
       "      <td>30.5000</td>\n",
       "      <td>0.0</td>\n",
       "      <td>1.0</td>\n",
       "    </tr>\n",
       "    <tr>\n",
       "      <td>884</td>\n",
       "      <td>3.0</td>\n",
       "      <td>0.0</td>\n",
       "      <td>0.0</td>\n",
       "      <td>25.00</td>\n",
       "      <td>0.0</td>\n",
       "      <td>7.0500</td>\n",
       "      <td>0.0</td>\n",
       "      <td>1.0</td>\n",
       "    </tr>\n",
       "    <tr>\n",
       "      <td>247</td>\n",
       "      <td>2.0</td>\n",
       "      <td>1.0</td>\n",
       "      <td>0.0</td>\n",
       "      <td>24.00</td>\n",
       "      <td>2.0</td>\n",
       "      <td>14.5000</td>\n",
       "      <td>0.0</td>\n",
       "      <td>1.0</td>\n",
       "    </tr>\n",
       "    <tr>\n",
       "      <td>478</td>\n",
       "      <td>3.0</td>\n",
       "      <td>0.0</td>\n",
       "      <td>0.0</td>\n",
       "      <td>22.00</td>\n",
       "      <td>0.0</td>\n",
       "      <td>7.5208</td>\n",
       "      <td>0.0</td>\n",
       "      <td>1.0</td>\n",
       "    </tr>\n",
       "    <tr>\n",
       "      <td>305</td>\n",
       "      <td>1.0</td>\n",
       "      <td>0.0</td>\n",
       "      <td>1.0</td>\n",
       "      <td>0.92</td>\n",
       "      <td>2.0</td>\n",
       "      <td>151.5500</td>\n",
       "      <td>0.0</td>\n",
       "      <td>1.0</td>\n",
       "    </tr>\n",
       "  </tbody>\n",
       "</table>\n",
       "</div>"
      ],
      "text/plain": [
       "     Pclass  Sex  SibSp    Age  Parch      Fare  Embarked_Q  Embarked_S\n",
       "298     1.0  0.0    0.0  24.00    0.0   30.5000         0.0         1.0\n",
       "884     3.0  0.0    0.0  25.00    0.0    7.0500         0.0         1.0\n",
       "247     2.0  1.0    0.0  24.00    2.0   14.5000         0.0         1.0\n",
       "478     3.0  0.0    0.0  22.00    0.0    7.5208         0.0         1.0\n",
       "305     1.0  0.0    1.0   0.92    2.0  151.5500         0.0         1.0"
      ]
     },
     "execution_count": 36,
     "metadata": {},
     "output_type": "execute_result"
    }
   ],
   "source": [
    "X_train_int.head()"
   ]
  },
  {
   "cell_type": "code",
   "execution_count": 37,
   "metadata": {},
   "outputs": [
    {
     "name": "stdout",
     "output_type": "stream",
     "text": [
      "<class 'pandas.core.frame.DataFrame'>\n",
      "Int64Index: 668 entries, 298 to 102\n",
      "Data columns (total 8 columns):\n",
      "Pclass        668 non-null float64\n",
      "Sex           668 non-null float64\n",
      "SibSp         668 non-null float64\n",
      "Age           668 non-null float64\n",
      "Parch         668 non-null float64\n",
      "Fare          668 non-null float64\n",
      "Embarked_Q    668 non-null float64\n",
      "Embarked_S    668 non-null float64\n",
      "dtypes: float64(8)\n",
      "memory usage: 47.0 KB\n"
     ]
    }
   ],
   "source": [
    "X_train_int.info()"
   ]
  },
  {
   "cell_type": "markdown",
   "metadata": {},
   "source": [
    "### Scale Data"
   ]
  },
  {
   "cell_type": "code",
   "execution_count": 38,
   "metadata": {},
   "outputs": [],
   "source": [
    "from sklearn.preprocessing import StandardScaler"
   ]
  },
  {
   "cell_type": "code",
   "execution_count": 39,
   "metadata": {},
   "outputs": [],
   "source": [
    "def scale_data(sscaler, X_train_int, X_test_int,y_train):\n",
    "    #scaler = sscaler\n",
    "    #transform the training and test sets\n",
    "    scaled_data_train = sscaler.fit_transform(X_train_int, y_train)\n",
    "    scaled_data_test = sscaler.transform(X_test_int)\n",
    "    #convert into a dataframe\n",
    "    scaled_df_train = pd.DataFrame(scaled_data_train, columns=X_train_int.columns)\n",
    "    scaled_df_test = pd.DataFrame(scaled_data_test, columns=X_test_int.columns)\n",
    "    \n",
    "    return scaled_df_train, scaled_df_test"
   ]
  },
  {
   "cell_type": "code",
   "execution_count": 40,
   "metadata": {},
   "outputs": [],
   "source": [
    "train_scale, test_scale = scale_data(StandardScaler(), X_train_int, X_test_int,y_train)"
   ]
  },
  {
   "cell_type": "code",
   "execution_count": 41,
   "metadata": {},
   "outputs": [
    {
     "data": {
      "text/html": [
       "<div>\n",
       "<style scoped>\n",
       "    .dataframe tbody tr th:only-of-type {\n",
       "        vertical-align: middle;\n",
       "    }\n",
       "\n",
       "    .dataframe tbody tr th {\n",
       "        vertical-align: top;\n",
       "    }\n",
       "\n",
       "    .dataframe thead th {\n",
       "        text-align: right;\n",
       "    }\n",
       "</style>\n",
       "<table border=\"1\" class=\"dataframe\">\n",
       "  <thead>\n",
       "    <tr style=\"text-align: right;\">\n",
       "      <th></th>\n",
       "      <th>Pclass</th>\n",
       "      <th>Sex</th>\n",
       "      <th>SibSp</th>\n",
       "      <th>Age</th>\n",
       "      <th>Parch</th>\n",
       "      <th>Fare</th>\n",
       "      <th>Embarked_Q</th>\n",
       "      <th>Embarked_S</th>\n",
       "    </tr>\n",
       "  </thead>\n",
       "  <tbody>\n",
       "    <tr>\n",
       "      <td>0</td>\n",
       "      <td>-1.620517</td>\n",
       "      <td>-0.722247</td>\n",
       "      <td>-0.467660</td>\n",
       "      <td>-0.330106</td>\n",
       "      <td>-0.468878</td>\n",
       "      <td>-0.032568</td>\n",
       "      <td>-0.308354</td>\n",
       "      <td>0.595793</td>\n",
       "    </tr>\n",
       "    <tr>\n",
       "      <td>1</td>\n",
       "      <td>0.809349</td>\n",
       "      <td>-0.722247</td>\n",
       "      <td>-0.467660</td>\n",
       "      <td>-0.254221</td>\n",
       "      <td>-0.468878</td>\n",
       "      <td>-0.487331</td>\n",
       "      <td>-0.308354</td>\n",
       "      <td>0.595793</td>\n",
       "    </tr>\n",
       "    <tr>\n",
       "      <td>2</td>\n",
       "      <td>-0.405584</td>\n",
       "      <td>1.384569</td>\n",
       "      <td>-0.467660</td>\n",
       "      <td>-0.330106</td>\n",
       "      <td>2.046870</td>\n",
       "      <td>-0.342854</td>\n",
       "      <td>-0.308354</td>\n",
       "      <td>0.595793</td>\n",
       "    </tr>\n",
       "    <tr>\n",
       "      <td>3</td>\n",
       "      <td>0.809349</td>\n",
       "      <td>-0.722247</td>\n",
       "      <td>-0.467660</td>\n",
       "      <td>-0.481877</td>\n",
       "      <td>-0.468878</td>\n",
       "      <td>-0.478201</td>\n",
       "      <td>-0.308354</td>\n",
       "      <td>0.595793</td>\n",
       "    </tr>\n",
       "    <tr>\n",
       "      <td>4</td>\n",
       "      <td>-1.620517</td>\n",
       "      <td>-0.722247</td>\n",
       "      <td>0.376656</td>\n",
       "      <td>-2.081540</td>\n",
       "      <td>2.046870</td>\n",
       "      <td>2.314937</td>\n",
       "      <td>-0.308354</td>\n",
       "      <td>0.595793</td>\n",
       "    </tr>\n",
       "    <tr>\n",
       "      <td>...</td>\n",
       "      <td>...</td>\n",
       "      <td>...</td>\n",
       "      <td>...</td>\n",
       "      <td>...</td>\n",
       "      <td>...</td>\n",
       "      <td>...</td>\n",
       "      <td>...</td>\n",
       "      <td>...</td>\n",
       "    </tr>\n",
       "    <tr>\n",
       "      <td>663</td>\n",
       "      <td>0.809349</td>\n",
       "      <td>1.384569</td>\n",
       "      <td>-0.467660</td>\n",
       "      <td>-0.557762</td>\n",
       "      <td>-0.468878</td>\n",
       "      <td>-0.475695</td>\n",
       "      <td>-0.308354</td>\n",
       "      <td>0.595793</td>\n",
       "    </tr>\n",
       "    <tr>\n",
       "      <td>664</td>\n",
       "      <td>-1.620517</td>\n",
       "      <td>-0.722247</td>\n",
       "      <td>-0.467660</td>\n",
       "      <td>-0.330106</td>\n",
       "      <td>-0.468878</td>\n",
       "      <td>-0.022872</td>\n",
       "      <td>-0.308354</td>\n",
       "      <td>0.595793</td>\n",
       "    </tr>\n",
       "    <tr>\n",
       "      <td>665</td>\n",
       "      <td>0.809349</td>\n",
       "      <td>-0.722247</td>\n",
       "      <td>1.220971</td>\n",
       "      <td>0.959945</td>\n",
       "      <td>-0.468878</td>\n",
       "      <td>-0.350450</td>\n",
       "      <td>-0.308354</td>\n",
       "      <td>0.595793</td>\n",
       "    </tr>\n",
       "    <tr>\n",
       "      <td>666</td>\n",
       "      <td>-1.620517</td>\n",
       "      <td>1.384569</td>\n",
       "      <td>0.376656</td>\n",
       "      <td>-1.088960</td>\n",
       "      <td>2.046870</td>\n",
       "      <td>1.703093</td>\n",
       "      <td>-0.308354</td>\n",
       "      <td>0.595793</td>\n",
       "    </tr>\n",
       "    <tr>\n",
       "      <td>667</td>\n",
       "      <td>-1.620517</td>\n",
       "      <td>-0.722247</td>\n",
       "      <td>-0.467660</td>\n",
       "      <td>-0.557762</td>\n",
       "      <td>0.788996</td>\n",
       "      <td>0.874775</td>\n",
       "      <td>-0.308354</td>\n",
       "      <td>0.595793</td>\n",
       "    </tr>\n",
       "  </tbody>\n",
       "</table>\n",
       "<p>668 rows × 8 columns</p>\n",
       "</div>"
      ],
      "text/plain": [
       "       Pclass       Sex     SibSp       Age     Parch      Fare  Embarked_Q  \\\n",
       "0   -1.620517 -0.722247 -0.467660 -0.330106 -0.468878 -0.032568   -0.308354   \n",
       "1    0.809349 -0.722247 -0.467660 -0.254221 -0.468878 -0.487331   -0.308354   \n",
       "2   -0.405584  1.384569 -0.467660 -0.330106  2.046870 -0.342854   -0.308354   \n",
       "3    0.809349 -0.722247 -0.467660 -0.481877 -0.468878 -0.478201   -0.308354   \n",
       "4   -1.620517 -0.722247  0.376656 -2.081540  2.046870  2.314937   -0.308354   \n",
       "..        ...       ...       ...       ...       ...       ...         ...   \n",
       "663  0.809349  1.384569 -0.467660 -0.557762 -0.468878 -0.475695   -0.308354   \n",
       "664 -1.620517 -0.722247 -0.467660 -0.330106 -0.468878 -0.022872   -0.308354   \n",
       "665  0.809349 -0.722247  1.220971  0.959945 -0.468878 -0.350450   -0.308354   \n",
       "666 -1.620517  1.384569  0.376656 -1.088960  2.046870  1.703093   -0.308354   \n",
       "667 -1.620517 -0.722247 -0.467660 -0.557762  0.788996  0.874775   -0.308354   \n",
       "\n",
       "     Embarked_S  \n",
       "0      0.595793  \n",
       "1      0.595793  \n",
       "2      0.595793  \n",
       "3      0.595793  \n",
       "4      0.595793  \n",
       "..          ...  \n",
       "663    0.595793  \n",
       "664    0.595793  \n",
       "665    0.595793  \n",
       "666    0.595793  \n",
       "667    0.595793  \n",
       "\n",
       "[668 rows x 8 columns]"
      ]
     },
     "execution_count": 41,
     "metadata": {},
     "output_type": "execute_result"
    }
   ],
   "source": [
    "train_scale"
   ]
  },
  {
   "cell_type": "code",
   "execution_count": 42,
   "metadata": {},
   "outputs": [
    {
     "data": {
      "text/html": [
       "<div>\n",
       "<style scoped>\n",
       "    .dataframe tbody tr th:only-of-type {\n",
       "        vertical-align: middle;\n",
       "    }\n",
       "\n",
       "    .dataframe tbody tr th {\n",
       "        vertical-align: top;\n",
       "    }\n",
       "\n",
       "    .dataframe thead th {\n",
       "        text-align: right;\n",
       "    }\n",
       "</style>\n",
       "<table border=\"1\" class=\"dataframe\">\n",
       "  <thead>\n",
       "    <tr style=\"text-align: right;\">\n",
       "      <th></th>\n",
       "      <th>Pclass</th>\n",
       "      <th>Sex</th>\n",
       "      <th>SibSp</th>\n",
       "      <th>Age</th>\n",
       "      <th>Parch</th>\n",
       "      <th>Fare</th>\n",
       "      <th>Embarked_Q</th>\n",
       "      <th>Embarked_S</th>\n",
       "    </tr>\n",
       "  </thead>\n",
       "  <tbody>\n",
       "    <tr>\n",
       "      <td>0</td>\n",
       "      <td>0.809349</td>\n",
       "      <td>-0.722247</td>\n",
       "      <td>0.376656</td>\n",
       "      <td>-0.330106</td>\n",
       "      <td>0.788996</td>\n",
       "      <td>-0.328391</td>\n",
       "      <td>-0.308354</td>\n",
       "      <td>-1.678435</td>\n",
       "    </tr>\n",
       "    <tr>\n",
       "      <td>1</td>\n",
       "      <td>-0.405584</td>\n",
       "      <td>-0.722247</td>\n",
       "      <td>-0.467660</td>\n",
       "      <td>0.201092</td>\n",
       "      <td>-0.468878</td>\n",
       "      <td>-0.420425</td>\n",
       "      <td>-0.308354</td>\n",
       "      <td>0.595793</td>\n",
       "    </tr>\n",
       "    <tr>\n",
       "      <td>2</td>\n",
       "      <td>0.809349</td>\n",
       "      <td>-0.722247</td>\n",
       "      <td>-0.467660</td>\n",
       "      <td>-0.633647</td>\n",
       "      <td>-0.468878</td>\n",
       "      <td>-0.470362</td>\n",
       "      <td>-0.308354</td>\n",
       "      <td>0.595793</td>\n",
       "    </tr>\n",
       "    <tr>\n",
       "      <td>3</td>\n",
       "      <td>-0.405584</td>\n",
       "      <td>1.384569</td>\n",
       "      <td>-0.467660</td>\n",
       "      <td>-1.696043</td>\n",
       "      <td>0.788996</td>\n",
       "      <td>0.015914</td>\n",
       "      <td>-0.308354</td>\n",
       "      <td>0.595793</td>\n",
       "    </tr>\n",
       "    <tr>\n",
       "      <td>4</td>\n",
       "      <td>0.809349</td>\n",
       "      <td>1.384569</td>\n",
       "      <td>0.376656</td>\n",
       "      <td>-1.088960</td>\n",
       "      <td>-0.468878</td>\n",
       "      <td>-0.406042</td>\n",
       "      <td>-0.308354</td>\n",
       "      <td>-1.678435</td>\n",
       "    </tr>\n",
       "    <tr>\n",
       "      <td>...</td>\n",
       "      <td>...</td>\n",
       "      <td>...</td>\n",
       "      <td>...</td>\n",
       "      <td>...</td>\n",
       "      <td>...</td>\n",
       "      <td>...</td>\n",
       "      <td>...</td>\n",
       "      <td>...</td>\n",
       "    </tr>\n",
       "    <tr>\n",
       "      <td>218</td>\n",
       "      <td>-0.405584</td>\n",
       "      <td>1.384569</td>\n",
       "      <td>-0.467660</td>\n",
       "      <td>-0.254221</td>\n",
       "      <td>0.788996</td>\n",
       "      <td>-0.119836</td>\n",
       "      <td>-0.308354</td>\n",
       "      <td>0.595793</td>\n",
       "    </tr>\n",
       "    <tr>\n",
       "      <td>219</td>\n",
       "      <td>0.809349</td>\n",
       "      <td>-0.722247</td>\n",
       "      <td>-0.467660</td>\n",
       "      <td>-0.330106</td>\n",
       "      <td>-0.468878</td>\n",
       "      <td>-0.483452</td>\n",
       "      <td>-0.308354</td>\n",
       "      <td>0.595793</td>\n",
       "    </tr>\n",
       "    <tr>\n",
       "      <td>220</td>\n",
       "      <td>0.809349</td>\n",
       "      <td>-0.722247</td>\n",
       "      <td>-0.467660</td>\n",
       "      <td>-0.330106</td>\n",
       "      <td>-0.468878</td>\n",
       "      <td>-0.470928</td>\n",
       "      <td>-0.308354</td>\n",
       "      <td>0.595793</td>\n",
       "    </tr>\n",
       "    <tr>\n",
       "      <td>221</td>\n",
       "      <td>-0.405584</td>\n",
       "      <td>1.384569</td>\n",
       "      <td>-0.467660</td>\n",
       "      <td>-0.330106</td>\n",
       "      <td>-0.468878</td>\n",
       "      <td>-0.371943</td>\n",
       "      <td>-0.308354</td>\n",
       "      <td>0.595793</td>\n",
       "    </tr>\n",
       "    <tr>\n",
       "      <td>222</td>\n",
       "      <td>0.809349</td>\n",
       "      <td>-0.722247</td>\n",
       "      <td>0.376656</td>\n",
       "      <td>-0.785418</td>\n",
       "      <td>0.788996</td>\n",
       "      <td>-0.232072</td>\n",
       "      <td>-0.308354</td>\n",
       "      <td>0.595793</td>\n",
       "    </tr>\n",
       "  </tbody>\n",
       "</table>\n",
       "<p>223 rows × 8 columns</p>\n",
       "</div>"
      ],
      "text/plain": [
       "       Pclass       Sex     SibSp       Age     Parch      Fare  Embarked_Q  \\\n",
       "0    0.809349 -0.722247  0.376656 -0.330106  0.788996 -0.328391   -0.308354   \n",
       "1   -0.405584 -0.722247 -0.467660  0.201092 -0.468878 -0.420425   -0.308354   \n",
       "2    0.809349 -0.722247 -0.467660 -0.633647 -0.468878 -0.470362   -0.308354   \n",
       "3   -0.405584  1.384569 -0.467660 -1.696043  0.788996  0.015914   -0.308354   \n",
       "4    0.809349  1.384569  0.376656 -1.088960 -0.468878 -0.406042   -0.308354   \n",
       "..        ...       ...       ...       ...       ...       ...         ...   \n",
       "218 -0.405584  1.384569 -0.467660 -0.254221  0.788996 -0.119836   -0.308354   \n",
       "219  0.809349 -0.722247 -0.467660 -0.330106 -0.468878 -0.483452   -0.308354   \n",
       "220  0.809349 -0.722247 -0.467660 -0.330106 -0.468878 -0.470928   -0.308354   \n",
       "221 -0.405584  1.384569 -0.467660 -0.330106 -0.468878 -0.371943   -0.308354   \n",
       "222  0.809349 -0.722247  0.376656 -0.785418  0.788996 -0.232072   -0.308354   \n",
       "\n",
       "     Embarked_S  \n",
       "0     -1.678435  \n",
       "1      0.595793  \n",
       "2      0.595793  \n",
       "3      0.595793  \n",
       "4     -1.678435  \n",
       "..          ...  \n",
       "218    0.595793  \n",
       "219    0.595793  \n",
       "220    0.595793  \n",
       "221    0.595793  \n",
       "222    0.595793  \n",
       "\n",
       "[223 rows x 8 columns]"
      ]
     },
     "execution_count": 42,
     "metadata": {},
     "output_type": "execute_result"
    }
   ],
   "source": [
    "test_scale"
   ]
  },
  {
   "cell_type": "code",
   "execution_count": 43,
   "metadata": {},
   "outputs": [],
   "source": [
    "from sklearn.linear_model import LogisticRegression\n",
    "\n",
    "from sklearn import metrics\n",
    "from sklearn.metrics import accuracy_score"
   ]
  },
  {
   "cell_type": "markdown",
   "metadata": {},
   "source": [
    "### Imbalance"
   ]
  },
  {
   "cell_type": "code",
   "execution_count": 44,
   "metadata": {},
   "outputs": [],
   "source": [
    "from imblearn.over_sampling import SMOTE"
   ]
  },
  {
   "cell_type": "code",
   "execution_count": 45,
   "metadata": {},
   "outputs": [],
   "source": [
    "def smote_resample(y, X_train, y_train):\n",
    "    # Previous original class distribution\n",
    "    print('Original class distribution: \\n')\n",
    "    print(y.value_counts())\n",
    "    smote = SMOTE()\n",
    "    X_train_resampled, y_train_resampled = smote.fit_sample(X_train, y_train) \n",
    "    # Preview synthetic sample class distribution\n",
    "    print('-----------------------------------------')\n",
    "    print('Synthetic sample class distribution: \\n')\n",
    "    print(pd.Series(y_train_resampled).value_counts()) \n",
    "    \n",
    "    return X_train_resampled, y_train_resampled"
   ]
  },
  {
   "cell_type": "code",
   "execution_count": 46,
   "metadata": {},
   "outputs": [
    {
     "name": "stdout",
     "output_type": "stream",
     "text": [
      "Original class distribution: \n",
      "\n",
      "0    549\n",
      "1    342\n",
      "Name: Survived, dtype: int64\n",
      "-----------------------------------------\n",
      "Synthetic sample class distribution: \n",
      "\n",
      "1    415\n",
      "0    415\n",
      "Name: Survived, dtype: int64\n"
     ]
    }
   ],
   "source": [
    "train_resampled, y_train_resampled = smote_resample(y, train_scale, y_train)"
   ]
  },
  {
   "cell_type": "code",
   "execution_count": 47,
   "metadata": {},
   "outputs": [],
   "source": [
    "# \"\"\"\n",
    "# we can use false posirve rate and true postive rate to show us how good our model is.\n",
    "# 45 degree line is a worthless model\n",
    "\n",
    "# y_score - between scale of 1 and 0\n",
    "# \"\"\"\n",
    "# logreg = LogisticRegression()\n",
    "# logreg.fit(train_scale, y_train)\n",
    "#         # Generate predictions\n",
    "# y_hat_train = logreg.predict(train_scale)\n",
    "# y_hat_test =  logreg.predict(test_scale)\n",
    "\n",
    "# y_score = logreg.decision_function(test_scale)\n",
    "# y_score_proba = logreg.predict_proba(test_scale)\n",
    "\n",
    "# fpr, tpr,thresh  = metrics.roc_curve(y_test,y_score)\n",
    "# metrics.auc(fpr,tpr)"
   ]
  },
  {
   "cell_type": "code",
   "execution_count": 48,
   "metadata": {},
   "outputs": [],
   "source": [
    "#y_score.shape"
   ]
  },
  {
   "cell_type": "code",
   "execution_count": 49,
   "metadata": {},
   "outputs": [
    {
     "data": {
      "text/plain": [
       "\"\\ny_score has values that aren't probability\\n\\nhow hte model makes its predicitons\\ngives us a probability of calling each class back.  \\nGives us a value that correspondes to each row in data set\\nfor each observation or row, we have hte probaiblity of falling into 0 or falling into 1\\nwhen we want to get roc curve we can just take probility of falling into 1 class and pass that in \\n\""
      ]
     },
     "execution_count": 49,
     "metadata": {},
     "output_type": "execute_result"
    }
   ],
   "source": [
    "\"\"\"\n",
    "y_score has values that aren't probability\n",
    "\n",
    "how hte model makes its predicitons\n",
    "gives us a probability of calling each class back.  \n",
    "Gives us a value that correspondes to each row in data set\n",
    "for each observation or row, we have hte probaiblity of falling into 0 or falling into 1\n",
    "when we want to get roc curve we can just take probility of falling into 1 class and pass that in \n",
    "\"\"\"\n",
    "#print(y_score_proba)"
   ]
  },
  {
   "cell_type": "code",
   "execution_count": 50,
   "metadata": {},
   "outputs": [],
   "source": [
    "# fig,ax = plt.subplots()\n",
    "\n",
    "# #ax = axes[0]\n",
    "# #plot fpr v. tpr\n",
    "# ax.plot(fpr,tpr,label=f'ROC AUC Curve= {round(metrics.auc(fpr,tpr),2)}')\n",
    "# ax.plot([0,1],[0,1],ls=':')\n",
    "# ax.set(xlabel='False Positive Rate',ylabel='True Positive Rate')\n",
    "# ax.legend()\n",
    "# ax.grid()\n",
    "\n",
    "# #ax = axes[1]"
   ]
  },
  {
   "cell_type": "code",
   "execution_count": 51,
   "metadata": {},
   "outputs": [],
   "source": [
    "# curve = metrics.plot_roc_curve(logreg, test_scale,y_test)\n",
    "# ax = curve.ax_\n",
    "# ax.legend()\n",
    "# ax.plot([0,1],[0,1],ls=':')\n",
    "# ax.grid()"
   ]
  },
  {
   "cell_type": "markdown",
   "metadata": {},
   "source": [
    "### Classification Model Evaluation"
   ]
  },
  {
   "cell_type": "markdown",
   "metadata": {},
   "source": [
    "notes<br>\n",
    "recall-How good is our model at finding people who survived. Of postive class, what percentage did we find.<br>"
   ]
  },
  {
   "cell_type": "code",
   "execution_count": 52,
   "metadata": {},
   "outputs": [],
   "source": [
    "from sklearn.linear_model import LogisticRegression\n",
    "\n",
    "from sklearn import metrics\n",
    "from sklearn.metrics import roc_curve\n",
    "from sklearn.metrics import roc_auc_score,auc\n",
    "from sklearn.metrics import recall_score"
   ]
  },
  {
   "cell_type": "code",
   "execution_count": 53,
   "metadata": {},
   "outputs": [],
   "source": [
    "def eval_classification_model(class_model, X_train,X_test, y_train, classes,\n",
    "                              normalize='true',cmap='Blues',figsize=[10,5]):\n",
    "    #Classification Model, ie, knn = LogisticRegression()\n",
    "    class_model.fit(X_train, y_train)\n",
    "    # get Predictions\n",
    "    y_hat_train = class_model.predict(X_train)\n",
    "    y_hat_test =  class_model.predict(X_test)\n",
    "    #evaluate our model\n",
    "    print(\"Training Accuracy on  Model: {}\".format(accuracy_score(y_train, y_hat_train)))\n",
    "    print(\"Testing Accuracy on  Model: {}\".format(accuracy_score(y_test, y_hat_test)))\n",
    "    print('Recall: {}'.format(recall_score(y_test, y_hat_test)))\n",
    "    \n",
    "    print('\\n')\n",
    "    \n",
    "    # Classification Report / Accuracy Score \n",
    "    #dashes = '---'*20\n",
    "    print(dashes)\n",
    "    print(\"Classification Report\")\n",
    "    print(dashes)\n",
    "    #classes = ['Died','Survived']\n",
    "    print(metrics.classification_report(y_test,y_hat_test,\n",
    "                                        target_names=classes))\n",
    "    print(dashes)\n",
    "    print('\\n')\n",
    "\n",
    "    fig, axes = plt.subplots(ncols=2,figsize= figsize)\n",
    "    #Confusion Matrix\n",
    "    metrics.plot_confusion_matrix(class_model,X_test,y_test,normalize=normalize,\n",
    "                                  cmap=cmap, ax=axes[0])\n",
    "    #ROC-AUC Curve\n",
    "    metrics.plot_roc_curve(class_model, X_test,y_test,ax=axes[1])\n",
    "    ax = axes[1]\n",
    "    ax.legend()\n",
    "    ax.plot([0,1],[0,1],ls=':')\n",
    "    ax.grid()\n",
    "    \n",
    "    #return y_hat_train, y_hat_test\n",
    "    return class_model"
   ]
  },
  {
   "cell_type": "code",
   "execution_count": 54,
   "metadata": {},
   "outputs": [
    {
     "name": "stdout",
     "output_type": "stream",
     "text": [
      "Training Accuracy on  Model: 0.7807228915662651\n",
      "Testing Accuracy on  Model: 0.7937219730941704\n",
      "Recall: 0.797752808988764\n",
      "\n",
      "\n",
      "------------------------------------------------------------\n",
      "Classification Report\n",
      "------------------------------------------------------------\n",
      "              precision    recall  f1-score   support\n",
      "\n",
      "        Died       0.85      0.79      0.82       134\n",
      "    Survived       0.72      0.80      0.76        89\n",
      "\n",
      "    accuracy                           0.79       223\n",
      "   macro avg       0.79      0.79      0.79       223\n",
      "weighted avg       0.80      0.79      0.80       223\n",
      "\n",
      "------------------------------------------------------------\n",
      "\n",
      "\n"
     ]
    },
    {
     "data": {
      "image/png": "[encoded data removed]",
      "text/plain": [
       "<Figure size 720x360 with 3 Axes>"
      ]
     },
     "metadata": {
      "needs_background": "light"
     },
     "output_type": "display_data"
    }
   ],
   "source": [
    "model = eval_classification_model(LogisticRegression(), train_resampled, test_scale, \n",
    "                                  y_train_resampled,classes=['Died','Survived'])"
   ]
  },
  {
   "cell_type": "markdown",
   "metadata": {},
   "source": [
    "### GridSearch"
   ]
  },
  {
   "cell_type": "code",
   "execution_count": 55,
   "metadata": {},
   "outputs": [],
   "source": [
    "\"\"\"\n",
    "C_param_range = [0.005, 0.1, 0.2, 0.5, 0.8, 1, 1.25, 1.5, 2]\n",
    "names = [0.005, 0.1, 0.2, 0.5, 0.8, 1, 1.25, 1.5, 2]\n",
    "\n",
    "\"\"\"\n",
    "from sklearn.model_selection import GridSearchCV\n",
    "\n",
    "model = LogisticRegression()\n",
    "params = {'C':[0.001, 0.01, 0.1, 1,10, 100]}\n",
    "gridsearch = GridSearchCV(model,params, scoring='recall')"
   ]
  },
  {
   "cell_type": "code",
   "execution_count": 56,
   "metadata": {},
   "outputs": [
    {
     "data": {
      "text/plain": [
       "GridSearchCV(estimator=LogisticRegression(),\n",
       "             param_grid={'C': [0.001, 0.01, 0.1, 1, 10, 100]},\n",
       "             scoring='recall')"
      ]
     },
     "execution_count": 56,
     "metadata": {},
     "output_type": "execute_result"
    }
   ],
   "source": [
    "gridsearch.fit(train_scale, y_train)"
   ]
  },
  {
   "cell_type": "code",
   "execution_count": 57,
   "metadata": {},
   "outputs": [],
   "source": [
    "#of all params it tried thi gave it hte highest score\n",
    "best_params = gridsearch.best_params_\n",
    "#best_params"
   ]
  },
  {
   "cell_type": "code",
   "execution_count": 58,
   "metadata": {},
   "outputs": [],
   "source": [
    "#this is hte actual model it trained\n",
    "best_model = gridsearch.best_estimator_"
   ]
  },
  {
   "cell_type": "code",
   "execution_count": 59,
   "metadata": {},
   "outputs": [
    {
     "name": "stdout",
     "output_type": "stream",
     "text": [
      "Training Accuracy on  Model: 0.7994011976047904\n",
      "Testing Accuracy on  Model: 0.8071748878923767\n",
      "Recall: 0.7303370786516854\n",
      "\n",
      "\n",
      "------------------------------------------------------------\n",
      "Classification Report\n",
      "------------------------------------------------------------\n",
      "              precision    recall  f1-score   support\n",
      "\n",
      "        Died       0.83      0.86      0.84       134\n",
      "    Survived       0.77      0.73      0.75        89\n",
      "\n",
      "    accuracy                           0.81       223\n",
      "   macro avg       0.80      0.79      0.80       223\n",
      "weighted avg       0.81      0.81      0.81       223\n",
      "\n",
      "------------------------------------------------------------\n",
      "\n",
      "\n"
     ]
    },
    {
     "data": {
      "image/png": "[encoded data removed]",
      "text/plain": [
       "<Figure size 720x360 with 3 Axes>"
      ]
     },
     "metadata": {
      "needs_background": "light"
     },
     "output_type": "display_data"
    }
   ],
   "source": [
    "# best_model = LogisticRegression(**best_params)\n",
    "# best_model.fit(train_scale,y_train)\n",
    "model = eval_classification_model(best_model,train_scale, test_scale,y_train,classes=['Died','Survived'])"
   ]
  },
  {
   "cell_type": "code",
   "execution_count": 60,
   "metadata": {},
   "outputs": [
    {
     "data": {
      "text/html": [
       "<div>\n",
       "<style scoped>\n",
       "    .dataframe tbody tr th:only-of-type {\n",
       "        vertical-align: middle;\n",
       "    }\n",
       "\n",
       "    .dataframe tbody tr th {\n",
       "        vertical-align: top;\n",
       "    }\n",
       "\n",
       "    .dataframe thead th {\n",
       "        text-align: right;\n",
       "    }\n",
       "</style>\n",
       "<table border=\"1\" class=\"dataframe\">\n",
       "  <thead>\n",
       "    <tr style=\"text-align: right;\">\n",
       "      <th></th>\n",
       "      <th>mean_fit_time</th>\n",
       "      <th>std_fit_time</th>\n",
       "      <th>mean_score_time</th>\n",
       "      <th>std_score_time</th>\n",
       "      <th>param_C</th>\n",
       "      <th>params</th>\n",
       "      <th>split0_test_score</th>\n",
       "      <th>split1_test_score</th>\n",
       "      <th>split2_test_score</th>\n",
       "      <th>split3_test_score</th>\n",
       "      <th>split4_test_score</th>\n",
       "      <th>mean_test_score</th>\n",
       "      <th>std_test_score</th>\n",
       "      <th>rank_test_score</th>\n",
       "    </tr>\n",
       "  </thead>\n",
       "  <tbody>\n",
       "    <tr>\n",
       "      <td>0</td>\n",
       "      <td>0.017528</td>\n",
       "      <td>0.003882</td>\n",
       "      <td>0.008733</td>\n",
       "      <td>0.001639</td>\n",
       "      <td>0.001</td>\n",
       "      <td>{'C': 0.001}</td>\n",
       "      <td>0.039216</td>\n",
       "      <td>0.000000</td>\n",
       "      <td>0.058824</td>\n",
       "      <td>0.02</td>\n",
       "      <td>0.02</td>\n",
       "      <td>0.027608</td>\n",
       "      <td>0.019935</td>\n",
       "      <td>6</td>\n",
       "    </tr>\n",
       "    <tr>\n",
       "      <td>1</td>\n",
       "      <td>0.015371</td>\n",
       "      <td>0.002579</td>\n",
       "      <td>0.007290</td>\n",
       "      <td>0.001738</td>\n",
       "      <td>0.01</td>\n",
       "      <td>{'C': 0.01}</td>\n",
       "      <td>0.490196</td>\n",
       "      <td>0.745098</td>\n",
       "      <td>0.607843</td>\n",
       "      <td>0.46</td>\n",
       "      <td>0.58</td>\n",
       "      <td>0.576627</td>\n",
       "      <td>0.100440</td>\n",
       "      <td>5</td>\n",
       "    </tr>\n",
       "    <tr>\n",
       "      <td>2</td>\n",
       "      <td>0.017028</td>\n",
       "      <td>0.003281</td>\n",
       "      <td>0.008434</td>\n",
       "      <td>0.002122</td>\n",
       "      <td>0.1</td>\n",
       "      <td>{'C': 0.1}</td>\n",
       "      <td>0.627451</td>\n",
       "      <td>0.764706</td>\n",
       "      <td>0.666667</td>\n",
       "      <td>0.56</td>\n",
       "      <td>0.76</td>\n",
       "      <td>0.675765</td>\n",
       "      <td>0.078517</td>\n",
       "      <td>4</td>\n",
       "    </tr>\n",
       "    <tr>\n",
       "      <td>3</td>\n",
       "      <td>0.017914</td>\n",
       "      <td>0.000892</td>\n",
       "      <td>0.007381</td>\n",
       "      <td>0.000520</td>\n",
       "      <td>1</td>\n",
       "      <td>{'C': 1}</td>\n",
       "      <td>0.647059</td>\n",
       "      <td>0.784314</td>\n",
       "      <td>0.686275</td>\n",
       "      <td>0.56</td>\n",
       "      <td>0.76</td>\n",
       "      <td>0.687529</td>\n",
       "      <td>0.080650</td>\n",
       "      <td>1</td>\n",
       "    </tr>\n",
       "    <tr>\n",
       "      <td>4</td>\n",
       "      <td>0.017181</td>\n",
       "      <td>0.002042</td>\n",
       "      <td>0.007452</td>\n",
       "      <td>0.001179</td>\n",
       "      <td>10</td>\n",
       "      <td>{'C': 10}</td>\n",
       "      <td>0.647059</td>\n",
       "      <td>0.784314</td>\n",
       "      <td>0.686275</td>\n",
       "      <td>0.56</td>\n",
       "      <td>0.76</td>\n",
       "      <td>0.687529</td>\n",
       "      <td>0.080650</td>\n",
       "      <td>1</td>\n",
       "    </tr>\n",
       "    <tr>\n",
       "      <td>5</td>\n",
       "      <td>0.019802</td>\n",
       "      <td>0.002665</td>\n",
       "      <td>0.008556</td>\n",
       "      <td>0.001517</td>\n",
       "      <td>100</td>\n",
       "      <td>{'C': 100}</td>\n",
       "      <td>0.647059</td>\n",
       "      <td>0.784314</td>\n",
       "      <td>0.686275</td>\n",
       "      <td>0.56</td>\n",
       "      <td>0.76</td>\n",
       "      <td>0.687529</td>\n",
       "      <td>0.080650</td>\n",
       "      <td>1</td>\n",
       "    </tr>\n",
       "  </tbody>\n",
       "</table>\n",
       "</div>"
      ],
      "text/plain": [
       "   mean_fit_time  std_fit_time  mean_score_time  std_score_time param_C  \\\n",
       "0       0.017528      0.003882         0.008733        0.001639   0.001   \n",
       "1       0.015371      0.002579         0.007290        0.001738    0.01   \n",
       "2       0.017028      0.003281         0.008434        0.002122     0.1   \n",
       "3       0.017914      0.000892         0.007381        0.000520       1   \n",
       "4       0.017181      0.002042         0.007452        0.001179      10   \n",
       "5       0.019802      0.002665         0.008556        0.001517     100   \n",
       "\n",
       "         params  split0_test_score  split1_test_score  split2_test_score  \\\n",
       "0  {'C': 0.001}           0.039216           0.000000           0.058824   \n",
       "1   {'C': 0.01}           0.490196           0.745098           0.607843   \n",
       "2    {'C': 0.1}           0.627451           0.764706           0.666667   \n",
       "3      {'C': 1}           0.647059           0.784314           0.686275   \n",
       "4     {'C': 10}           0.647059           0.784314           0.686275   \n",
       "5    {'C': 100}           0.647059           0.784314           0.686275   \n",
       "\n",
       "   split3_test_score  split4_test_score  mean_test_score  std_test_score  \\\n",
       "0               0.02               0.02         0.027608        0.019935   \n",
       "1               0.46               0.58         0.576627        0.100440   \n",
       "2               0.56               0.76         0.675765        0.078517   \n",
       "3               0.56               0.76         0.687529        0.080650   \n",
       "4               0.56               0.76         0.687529        0.080650   \n",
       "5               0.56               0.76         0.687529        0.080650   \n",
       "\n",
       "   rank_test_score  \n",
       "0                6  \n",
       "1                5  \n",
       "2                4  \n",
       "3                1  \n",
       "4                1  \n",
       "5                1  "
      ]
     },
     "execution_count": 60,
     "metadata": {},
     "output_type": "execute_result"
    }
   ],
   "source": [
    "res_df = pd.DataFrame(gridsearch.cv_results_)\n",
    "res_df"
   ]
  },
  {
   "cell_type": "code",
   "execution_count": 61,
   "metadata": {},
   "outputs": [
    {
     "data": {
      "text/plain": [
       "<matplotlib.axes._subplots.AxesSubplot at 0x7f9fb3d871d0>"
      ]
     },
     "execution_count": 61,
     "metadata": {},
     "output_type": "execute_result"
    },
    {
     "data": {
      "image/png": "[encoded data removed]",
      "text/plain": [
       "<Figure size 432x288 with 1 Axes>"
      ]
     },
     "metadata": {
      "needs_background": "light"
     },
     "output_type": "display_data"
    }
   ],
   "source": [
    "res_df.plot('param_C','mean_test_score', logx=True)"
   ]
  },
  {
   "cell_type": "markdown",
   "metadata": {},
   "source": [
    "### Logistic Regression with Parameters"
   ]
  },
  {
   "cell_type": "code",
   "execution_count": 62,
   "metadata": {},
   "outputs": [
    {
     "name": "stdout",
     "output_type": "stream",
     "text": [
      "Training Accuracy on  Model: 0.791566265060241\n",
      "Testing Accuracy on  Model: 0.7982062780269058\n",
      "Recall: 0.8314606741573034\n",
      "\n",
      "\n",
      "------------------------------------------------------------\n",
      "Classification Report\n",
      "------------------------------------------------------------\n",
      "              precision    recall  f1-score   support\n",
      "\n",
      "        Died       0.87      0.78      0.82       134\n",
      "    Survived       0.71      0.83      0.77        89\n",
      "\n",
      "    accuracy                           0.80       223\n",
      "   macro avg       0.79      0.80      0.79       223\n",
      "weighted avg       0.81      0.80      0.80       223\n",
      "\n",
      "------------------------------------------------------------\n",
      "\n",
      "\n"
     ]
    },
    {
     "data": {
      "image/png": "[encoded data removed]",
      "text/plain": [
       "<Figure size 720x360 with 3 Axes>"
      ]
     },
     "metadata": {
      "needs_background": "light"
     },
     "output_type": "display_data"
    }
   ],
   "source": [
    "#LogisticRegression(fit_intercept=False, C=1e12, solver='liblinear')\n",
    "\"\"\"\n",
    "Training Accuracy on  Model: 0.7746987951807229\n",
    "Testing Accuracy on  Model: 0.7937219730941704\n",
    "\n",
    " accuracy                           0.80       223\n",
    " \n",
    " But, TP increased from 80% to 83%\n",
    "\n",
    "\"\"\"\n",
    "model = eval_classification_model(LogisticRegression(fit_intercept=False, C=1e12, solver='liblinear'), \n",
    "                                                    train_resampled, test_scale, y_train_resampled,classes=['Died','Survived'])"
   ]
  },
  {
   "cell_type": "markdown",
   "metadata": {},
   "source": [
    "### KNeighbors Nearest Classifier"
   ]
  },
  {
   "cell_type": "code",
   "execution_count": 63,
   "metadata": {},
   "outputs": [],
   "source": [
    "from sklearn.neighbors import KNeighborsClassifier"
   ]
  },
  {
   "cell_type": "code",
   "execution_count": 64,
   "metadata": {
    "scrolled": true
   },
   "outputs": [
    {
     "name": "stdout",
     "output_type": "stream",
     "text": [
      "Training Accuracy on  Model: 0.8710843373493976\n",
      "Testing Accuracy on  Model: 0.7713004484304933\n",
      "Recall: 0.7752808988764045\n",
      "\n",
      "\n",
      "------------------------------------------------------------\n",
      "Classification Report\n",
      "------------------------------------------------------------\n",
      "              precision    recall  f1-score   support\n",
      "\n",
      "        Died       0.84      0.77      0.80       134\n",
      "    Survived       0.69      0.78      0.73        89\n",
      "\n",
      "    accuracy                           0.77       223\n",
      "   macro avg       0.76      0.77      0.77       223\n",
      "weighted avg       0.78      0.77      0.77       223\n",
      "\n",
      "------------------------------------------------------------\n",
      "\n",
      "\n"
     ]
    },
    {
     "data": {
      "image/png": "[encoded data removed]",
      "text/plain": [
       "<Figure size 720x360 with 3 Axes>"
      ]
     },
     "metadata": {
      "needs_background": "light"
     },
     "output_type": "display_data"
    }
   ],
   "source": [
    "mocel = eval_classification_model(KNeighborsClassifier(), \n",
    "                                                    train_resampled, test_scale, y_train_resampled,classes=['Died','Survived'])"
   ]
  },
  {
   "cell_type": "code",
   "execution_count": 65,
   "metadata": {},
   "outputs": [
    {
     "data": {
      "text/plain": [
       "GridSearchCV(estimator=KNeighborsClassifier(),\n",
       "             param_grid={'n_neighbors': range(1, 26, 2)}, scoring='recall')"
      ]
     },
     "execution_count": 65,
     "metadata": {},
     "output_type": "execute_result"
    }
   ],
   "source": [
    "from sklearn.model_selection import GridSearchCV\n",
    "\n",
    "model = KNeighborsClassifier()\n",
    "params = {'n_neighbors':range(1, 26, 2)}\n",
    "gridsearch = GridSearchCV(model,params, scoring='recall')\n",
    "gridsearch.fit(train_scale, y_train)"
   ]
  },
  {
   "cell_type": "code",
   "execution_count": 66,
   "metadata": {},
   "outputs": [
    {
     "name": "stdout",
     "output_type": "stream",
     "text": [
      "Training Accuracy on  Model: 0.8939759036144578\n",
      "Testing Accuracy on  Model: 0.7847533632286996\n",
      "Recall: 0.7640449438202247\n",
      "\n",
      "\n",
      "------------------------------------------------------------\n",
      "Classification Report\n",
      "------------------------------------------------------------\n",
      "              precision    recall  f1-score   support\n",
      "\n",
      "        Died       0.84      0.80      0.82       134\n",
      "    Survived       0.72      0.76      0.74        89\n",
      "\n",
      "    accuracy                           0.78       223\n",
      "   macro avg       0.78      0.78      0.78       223\n",
      "weighted avg       0.79      0.78      0.79       223\n",
      "\n",
      "------------------------------------------------------------\n",
      "\n",
      "\n"
     ]
    },
    {
     "data": {
      "image/png": "[encoded data removed]",
      "text/plain": [
       "<Figure size 720x360 with 3 Axes>"
      ]
     },
     "metadata": {
      "needs_background": "light"
     },
     "output_type": "display_data"
    }
   ],
   "source": [
    "model = eval_classification_model(gridsearch.best_estimator_, \n",
    "                                                    train_resampled, test_scale, y_train_resampled,classes=['Died','Survived'])"
   ]
  },
  {
   "cell_type": "markdown",
   "metadata": {},
   "source": [
    "### Decision Tree Classifier"
   ]
  },
  {
   "cell_type": "code",
   "execution_count": 67,
   "metadata": {},
   "outputs": [],
   "source": [
    "from sklearn.tree import DecisionTreeClassifier"
   ]
  },
  {
   "cell_type": "code",
   "execution_count": 68,
   "metadata": {},
   "outputs": [
    {
     "name": "stdout",
     "output_type": "stream",
     "text": [
      "Training Accuracy on  Model: 0.8481927710843373\n",
      "Testing Accuracy on  Model: 0.8116591928251121\n",
      "Recall: 0.7078651685393258\n",
      "\n",
      "\n",
      "------------------------------------------------------------\n",
      "Classification Report\n",
      "------------------------------------------------------------\n",
      "              precision    recall  f1-score   support\n",
      "\n",
      "        Died       0.82      0.88      0.85       134\n",
      "    Survived       0.80      0.71      0.75        89\n",
      "\n",
      "    accuracy                           0.81       223\n",
      "   macro avg       0.81      0.79      0.80       223\n",
      "weighted avg       0.81      0.81      0.81       223\n",
      "\n",
      "------------------------------------------------------------\n",
      "\n",
      "\n"
     ]
    },
    {
     "data": {
      "image/png": "[encoded data removed]",
      "text/plain": [
       "<Figure size 720x360 with 3 Axes>"
      ]
     },
     "metadata": {
      "needs_background": "light"
     },
     "output_type": "display_data"
    }
   ],
   "source": [
    "#auc- line, are we better than random chance\n",
    "tree = tree = eval_classification_model(DecisionTreeClassifier(max_depth=5), \n",
    "                                            train_resampled, test_scale, y_train_resampled,classes=['Died','Survived'])"
   ]
  },
  {
   "cell_type": "code",
   "execution_count": 69,
   "metadata": {},
   "outputs": [
    {
     "data": {
      "text/plain": [
       "Embarked_Q    0.000000\n",
       "Embarked_S    0.000000\n",
       "Parch         0.007347\n",
       "SibSp         0.034117\n",
       "Fare          0.057351\n",
       "Pclass        0.151787\n",
       "Age           0.176757\n",
       "Sex           0.572641\n",
       "Name: Importance, dtype: float64"
      ]
     },
     "execution_count": 69,
     "metadata": {},
     "output_type": "execute_result"
    }
   ],
   "source": [
    "#pulled feature importance from model\n",
    "tree\n",
    "df_import = pd.Series(tree.feature_importances_,index=train_resampled.columns, name='Importance')\n",
    "df_import.sort_values()"
   ]
  },
  {
   "cell_type": "code",
   "execution_count": 70,
   "metadata": {},
   "outputs": [],
   "source": [
    "def plot_importance(tree, top_n=10, figsize=(10,10)):\n",
    "    df_importance = pd.Series(tree.feature_importances_,index=train_resampled.columns)\n",
    "    df_importance.sort_values(ascending=True).tail(top_n).plot(kind='barh', figsize=figsize)\n",
    "    \n",
    "    return df_importance"
   ]
  },
  {
   "cell_type": "code",
   "execution_count": 71,
   "metadata": {},
   "outputs": [
    {
     "data": {
      "text/plain": [
       "Pclass        0.151787\n",
       "Sex           0.572641\n",
       "SibSp         0.034117\n",
       "Age           0.176757\n",
       "Parch         0.007347\n",
       "Fare          0.057351\n",
       "Embarked_Q    0.000000\n",
       "Embarked_S    0.000000\n",
       "dtype: float64"
      ]
     },
     "execution_count": 71,
     "metadata": {},
     "output_type": "execute_result"
    },
    {
     "data": {
      "image/png": "[encoded data removed]",
      "text/plain": [
       "<Figure size 720x720 with 1 Axes>"
      ]
     },
     "metadata": {
      "needs_background": "light"
     },
     "output_type": "display_data"
    }
   ],
   "source": [
    "plot_importance(tree)"
   ]
  },
  {
   "cell_type": "code",
   "execution_count": 72,
   "metadata": {},
   "outputs": [],
   "source": [
    "def ensemble_features(tree, top_n=10, figsize=(10,10)):\n",
    "    df_importance = pd.Series(tree.feature_importances_,index=train_resampled.columns)\n",
    "    df_importance.sort_values(ascending=True).tail(top_n).plot(kind='barh', figsize=figsize)\n",
    "    \n",
    "    return df_importance\n",
    "    "
   ]
  },
  {
   "cell_type": "code",
   "execution_count": 73,
   "metadata": {},
   "outputs": [
    {
     "data": {
      "image/png": "[encoded data removed]",
      "text/plain": [
       "<Figure size 720x720 with 1 Axes>"
      ]
     },
     "metadata": {
      "needs_background": "light"
     },
     "output_type": "display_data"
    }
   ],
   "source": [
    "#top 10 imporant features as determined by our model\n",
    "#what were most important things in determing the output\n",
    "tree = ensemble_features(tree)"
   ]
  },
  {
   "cell_type": "code",
   "execution_count": 74,
   "metadata": {},
   "outputs": [
    {
     "name": "stdout",
     "output_type": "stream",
     "text": [
      "America/New_York\n",
      "09/12/20 - 11:09 PM\n"
     ]
    }
   ],
   "source": [
    "import tzlocal\n",
    "import datetime as dt#to get current time\n",
    "tz = tzlocal.get_localzone()\n",
    "print(tz)\n",
    "start = dt.datetime.now(tz)\n",
    "print(start.strftime(\"%m/%d/%y - %I:%m %p\"))"
   ]
  },
  {
   "cell_type": "code",
   "execution_count": 75,
   "metadata": {},
   "outputs": [],
   "source": [
    "\"\"\"\n",
    "how long model takes ot produce results\n",
    "tells us when it ended and how long ago\n",
    "\"\"\"\n",
    "class Timer() :\n",
    "\n",
    "    def __init__(self, format_=\"%m/%d/%y - %I:%m %p\"): #when we intialize class its going to perform these actions\n",
    "        import tzlocal\n",
    "        import datetime as dt#to get current time\n",
    "        self.tz = tzlocal.get_localzone() #save and can call out whenever we want\n",
    "        self.fmt = format_\n",
    "        \n",
    "        self.created_at =self.get_time()\n",
    "        \n",
    "    def get_time(self): \n",
    "        import datetime as dt\n",
    "        return dt.datetime.now(self.tz)\n",
    "    \n",
    "    def start(self): #need to get the time\n",
    "        time = self.get_time()\n",
    "        self.start= time\n",
    "        print(f\"[i]Timer started at {self.start.strftime(self.fmt)}\")\n",
    "        \n",
    "    def stop(self):\n",
    "        time = self.get_time()\n",
    "        self.end = time\n",
    "        print(f\"[i]Timer ended at {self.end.strftime(self.fmt)}\")\n",
    "        print(f\"- Total Time= {self.end - self.start}\")\n",
    "        "
   ]
  },
  {
   "cell_type": "code",
   "execution_count": 76,
   "metadata": {},
   "outputs": [
    {
     "name": "stdout",
     "output_type": "stream",
     "text": [
      "2020-09-12 23:40:26.041243-04:00\n",
      "[i]Timer started at 09/12/20 - 11:09 PM\n"
     ]
    }
   ],
   "source": [
    "timer = Timer()\n",
    "print(timer.created_at)\n",
    "timer.start()\n",
    "#timer.start"
   ]
  },
  {
   "cell_type": "code",
   "execution_count": 77,
   "metadata": {},
   "outputs": [
    {
     "name": "stdout",
     "output_type": "stream",
     "text": [
      "[i]Timer ended at 09/12/20 - 11:09 PM\n",
      "- Total Time= 0:00:00.017718\n"
     ]
    }
   ],
   "source": [
    "timer.stop()"
   ]
  },
  {
   "cell_type": "code",
   "execution_count": null,
   "metadata": {},
   "outputs": [],
   "source": []
  },
  {
   "cell_type": "code",
   "execution_count": 78,
   "metadata": {},
   "outputs": [],
   "source": [
    "#model = eval_classification_model(best_model,train_scale, test_scale,y_train,classes=['Died','Survived'])\n",
    "#grid_clf = GridSearchCV(tree, param_grid)"
   ]
  },
  {
   "cell_type": "code",
   "execution_count": 79,
   "metadata": {},
   "outputs": [],
   "source": [
    "#set up paragrid\n",
    "\n",
    "def gridsearch_decisiontree(tree,X_train, y_train):\n",
    "    #tree= DecisionTreeClassifier()\n",
    "\n",
    "   \n",
    "#     #timer.start\n",
    "    param_grid = {\"criterion\":[\"gini\",'entropy'],\n",
    "                 'max_depth':[None,5,3,8,10],\n",
    "                 'max_features':['auto','sqrt',3,5]}#list of options\n",
    "    grid_clf = GridSearchCV(tree, param_grid)\n",
    "\n",
    "    timer = Timer()\n",
    "#     #print(timer.created_at)\n",
    "    timer.start()\n",
    "    \n",
    "    grid_clf.fit(X_train, y_train)\n",
    "    #timer.stop()\n",
    "    timer.stop()\n",
    "    \n",
    "    #grid_clf.best_params_\n",
    "    \n",
    "    return grid_clf.best_params_"
   ]
  },
  {
   "cell_type": "code",
   "execution_count": 80,
   "metadata": {},
   "outputs": [
    {
     "name": "stdout",
     "output_type": "stream",
     "text": [
      "[i]Timer started at 09/12/20 - 11:09 PM\n",
      "[i]Timer ended at 09/12/20 - 11:09 PM\n",
      "- Total Time= 0:00:02.552870\n"
     ]
    },
    {
     "data": {
      "text/plain": [
       "{'criterion': 'entropy', 'max_depth': None, 'max_features': 'auto'}"
      ]
     },
     "execution_count": 80,
     "metadata": {},
     "output_type": "execute_result"
    }
   ],
   "source": [
    "#train_resampled, test_scale, y_train_resampled,\n",
    "grid_clf = gridsearch_decisiontree( DecisionTreeClassifier(),train_resampled,y_train_resampled)\n",
    "grid_clf"
   ]
  },
  {
   "cell_type": "code",
   "execution_count": 81,
   "metadata": {},
   "outputs": [],
   "source": [
    "#grid_clf.best_params_"
   ]
  },
  {
   "cell_type": "code",
   "execution_count": 82,
   "metadata": {},
   "outputs": [],
   "source": [
    "tree= DecisionTreeClassifier()\n",
    "\n",
    "\n",
    "#     #print(timer.created_at)\n",
    "\n",
    "#     #timer.start\n",
    "param_grid = {\"criterion\":[\"gini\",'entropy'],\n",
    "                 'max_depth':[None,5,3,8,10],\n",
    "                 'max_features':['auto','sqrt',3,5]}#list of options\n",
    "grid_clf = GridSearchCV(tree, param_grid)\n"
   ]
  },
  {
   "cell_type": "code",
   "execution_count": 83,
   "metadata": {},
   "outputs": [
    {
     "name": "stdout",
     "output_type": "stream",
     "text": [
      "[i]Timer started at 09/12/20 - 11:09 PM\n",
      "[i]Timer ended at 09/12/20 - 11:09 PM\n",
      "- Total Time= 0:00:02.395775\n"
     ]
    },
    {
     "data": {
      "text/plain": [
       "{'criterion': 'entropy', 'max_depth': 10, 'max_features': 5}"
      ]
     },
     "execution_count": 83,
     "metadata": {},
     "output_type": "execute_result"
    }
   ],
   "source": [
    "timer = Timer()\n",
    "timer.start()\n",
    "\n",
    "grid_clf.fit(train_resampled, y_train_resampled)\n",
    "\n",
    "timer.stop()\n",
    "\n",
    "grid_clf.best_params_"
   ]
  },
  {
   "cell_type": "code",
   "execution_count": 84,
   "metadata": {},
   "outputs": [
    {
     "data": {
      "text/plain": [
       "'\\nusing Randomized search instead of gridsearch especially for large datasets\\ncreate a best model from  best parameteres that this found (from Gridsearch object)\\n\\n'"
      ]
     },
     "execution_count": 84,
     "metadata": {},
     "output_type": "execute_result"
    }
   ],
   "source": [
    "\"\"\"\n",
    "using Randomized search instead of gridsearch especially for large datasets\n",
    "create a best model from  best parameteres that this found (from Gridsearch object)\n",
    "\n",
    "\"\"\"\n",
    "#create a tree w/gridsearches best params\n",
    "# best_tree = DecisionTreeClassifier(**grid_clf.best_params_)\n",
    "# best_tree.fit(train_resampled,y_train_resampled)\n",
    "\n",
    "# #get predicitons for train and test set\n",
    "# y_hat_test = best_tree.predict(test_scale)\n",
    "# #DecisionTreeClassifier(max_depth=5),train_resampled, test_scale, y_train_resampled,classes=['Died','Survived'])\n",
    "# eval_classification_model(best_tree, y_test,y_hat_test,test_scale,classes=['Died','Survived'])"
   ]
  },
  {
   "cell_type": "code",
   "execution_count": null,
   "metadata": {},
   "outputs": [],
   "source": []
  },
  {
   "cell_type": "markdown",
   "metadata": {},
   "source": [
    "### Random Forest"
   ]
  },
  {
   "cell_type": "code",
   "execution_count": 85,
   "metadata": {},
   "outputs": [],
   "source": [
    "\"\"\"\n",
    "RF-naturally resitant to noise and variance in the data\n",
    "runtime can be quite slow\n",
    "\"\"\"\n",
    "from sklearn.ensemble import RandomForestClassifier, AdaBoostClassifier"
   ]
  },
  {
   "cell_type": "code",
   "execution_count": 86,
   "metadata": {},
   "outputs": [],
   "source": [
    "# cat_cols = X_train.select_dtypes('O').columns\n",
    "# cat_cols"
   ]
  },
  {
   "cell_type": "code",
   "execution_count": 87,
   "metadata": {},
   "outputs": [],
   "source": [
    "# num_cols = X_train.select_dtypes('number').columns\n",
    "# num_cols"
   ]
  },
  {
   "cell_type": "code",
   "execution_count": 88,
   "metadata": {},
   "outputs": [],
   "source": [
    "# X_train_obj = X_train.drop(['Pclass','SibSp','Age'],axis=1)\n",
    "# X_test_obj = X_test.drop(['Pclass','SibSp','Age'], axis=1)"
   ]
  },
  {
   "cell_type": "code",
   "execution_count": 89,
   "metadata": {},
   "outputs": [],
   "source": [
    "# X_train_num = X_train.drop(['Sex','Embarked'],axis=1)\n",
    "# X_test_num = X_test.drop(['Sex','Embarked'],axis=1)"
   ]
  }
 ],
 "metadata": {
  "kernelspec": {
   "display_name": "Python 3",
   "language": "python",
   "name": "python3"
  },
  "language_info": {
   "codemirror_mode": {
    "name": "ipython",
    "version": 3
   },
   "file_extension": ".py",
   "mimetype": "text/x-python",
   "name": "python",
   "nbconvert_exporter": "python",
   "pygments_lexer": "ipython3",
   "version": "3.6.9"
  },
  "toc": {
   "base_numbering": 1,
   "nav_menu": {},
   "number_sections": true,
   "sideBar": true,
   "skip_h1_title": false,
   "title_cell": "Table of Contents",
   "title_sidebar": "Contents",
   "toc_cell": false,
   "toc_position": {},
   "toc_section_display": true,
   "toc_window_display": false
  }
 },
 "nbformat": 4,
 "nbformat_minor": 4
}
